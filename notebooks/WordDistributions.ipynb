{
 "cells": [
  {
   "cell_type": "code",
   "execution_count": 15,
   "metadata": {
    "ExecuteTime": {
     "end_time": "2020-03-22T19:18:14.708167Z",
     "start_time": "2020-03-22T19:18:14.557193Z"
    }
   },
   "outputs": [],
   "source": [
    "import pandas as pd\n",
    "import matplotlib.pyplot as plt\n",
    "import numpy as np\n",
    "from symspellpy import SymSpell, Verbosity\n",
    "import pkg_resources"
   ]
  },
  {
   "cell_type": "code",
   "execution_count": 13,
   "metadata": {
    "ExecuteTime": {
     "end_time": "2020-03-22T19:18:05.730962Z",
     "start_time": "2020-03-22T19:18:05.722037Z"
    }
   },
   "outputs": [],
   "source": [
    "survey_words = pd.read_csv('../data/clean/survey_word_counts.csv')"
   ]
  },
  {
   "cell_type": "code",
   "execution_count": 56,
   "metadata": {
    "ExecuteTime": {
     "end_time": "2020-03-22T19:36:31.736563Z",
     "start_time": "2020-03-22T19:36:31.731598Z"
    }
   },
   "outputs": [],
   "source": [
    "import matplotlib.pylab as pylab\n",
    "\n",
    "params = {#'legend.fontsize': 'x-large',\n",
    "         #'axes.labelsize': 20,\n",
    "         #'axes.titlesize':'x-large',\n",
    "         'xtick.labelsize':20,\n",
    "         'ytick.labelsize':20}\n",
    "pylab.rcParams.update(params)"
   ]
  },
  {
   "cell_type": "code",
   "execution_count": 17,
   "metadata": {
    "ExecuteTime": {
     "end_time": "2020-03-22T19:18:46.814850Z",
     "start_time": "2020-03-22T19:18:40.268352Z"
    }
   },
   "outputs": [
    {
     "data": {
      "text/plain": [
       "True"
      ]
     },
     "execution_count": 17,
     "metadata": {},
     "output_type": "execute_result"
    }
   ],
   "source": [
    "sym_spell = SymSpell(max_dictionary_edit_distance=3, prefix_length=7)\n",
    "dictionary_path = pkg_resources.resource_filename(\n",
    "    \"symspellpy\", \"frequency_dictionary_en_82_765.txt\")\n",
    "# term_index is the column of the term and count_index is the\n",
    "# column of the term frequency\n",
    "sym_spell.load_dictionary(dictionary_path, term_index=0, count_index=1)"
   ]
  },
  {
   "cell_type": "code",
   "execution_count": 72,
   "metadata": {
    "ExecuteTime": {
     "end_time": "2020-03-22T20:15:50.779400Z",
     "start_time": "2020-03-22T20:15:50.776364Z"
    }
   },
   "outputs": [],
   "source": [
    "survey_words.columns = ['word','count','rank','freq']"
   ]
  },
  {
   "cell_type": "code",
   "execution_count": 75,
   "metadata": {
    "ExecuteTime": {
     "end_time": "2020-03-22T20:16:02.151650Z",
     "start_time": "2020-03-22T20:16:02.147967Z"
    }
   },
   "outputs": [],
   "source": [
    "survey_words = survey_words[['word', 'count','freq','rank']]"
   ]
  },
  {
   "cell_type": "code",
   "execution_count": 76,
   "metadata": {
    "ExecuteTime": {
     "end_time": "2020-03-22T20:16:03.410306Z",
     "start_time": "2020-03-22T20:16:03.383919Z"
    }
   },
   "outputs": [],
   "source": [
    "survey_words.to_csv('../data/clean/survey_distribution.tsv',sep = '\\t', index=False)"
   ]
  },
  {
   "cell_type": "code",
   "execution_count": 22,
   "metadata": {
    "ExecuteTime": {
     "end_time": "2020-03-22T19:25:37.691797Z",
     "start_time": "2020-03-22T19:25:32.224430Z"
    }
   },
   "outputs": [],
   "source": [
    "other_freq = pd.DataFrame([sym_spell.words]).T"
   ]
  },
  {
   "cell_type": "code",
   "execution_count": 28,
   "metadata": {
    "ExecuteTime": {
     "end_time": "2020-03-22T19:28:15.216771Z",
     "start_time": "2020-03-22T19:28:15.212192Z"
    }
   },
   "outputs": [],
   "source": [
    "other_freq['freq'] = other_freq[0]/other_freq[0].sum()"
   ]
  },
  {
   "cell_type": "code",
   "execution_count": 38,
   "metadata": {
    "ExecuteTime": {
     "end_time": "2020-03-22T19:29:50.769119Z",
     "start_time": "2020-03-22T19:29:50.759254Z"
    }
   },
   "outputs": [],
   "source": [
    "other_freq['rank'] = other_freq.freq.rank(ascending=False)"
   ]
  },
  {
   "cell_type": "code",
   "execution_count": 63,
   "metadata": {
    "ExecuteTime": {
     "end_time": "2020-03-22T20:06:03.234948Z",
     "start_time": "2020-03-22T20:06:03.232444Z"
    }
   },
   "outputs": [],
   "source": [
    "other_freq.index.name='word'"
   ]
  },
  {
   "cell_type": "code",
   "execution_count": 65,
   "metadata": {
    "ExecuteTime": {
     "end_time": "2020-03-22T20:06:55.230479Z",
     "start_time": "2020-03-22T20:06:55.227546Z"
    }
   },
   "outputs": [],
   "source": [
    "other_freq.columns = ['count','freq','rank']"
   ]
  },
  {
   "cell_type": "code",
   "execution_count": 66,
   "metadata": {
    "ExecuteTime": {
     "end_time": "2020-03-22T20:06:56.169705Z",
     "start_time": "2020-03-22T20:06:55.855490Z"
    }
   },
   "outputs": [],
   "source": [
    "other_freq.to_csv('../data/clean/sym_spell_freq.tsv',sep='\\t')"
   ]
  },
  {
   "cell_type": "code",
   "execution_count": 43,
   "metadata": {
    "ExecuteTime": {
     "end_time": "2020-03-22T19:33:10.521600Z",
     "start_time": "2020-03-22T19:33:10.519234Z"
    }
   },
   "outputs": [],
   "source": [
    "#survey_words.head(20)"
   ]
  },
  {
   "cell_type": "code",
   "execution_count": 58,
   "metadata": {
    "ExecuteTime": {
     "end_time": "2020-03-22T19:36:45.785237Z",
     "start_time": "2020-03-22T19:36:45.449713Z"
    }
   },
   "outputs": [
    {
     "data": {
      "text/plain": [
       "Text(0.5, 0, 'Rank')"
      ]
     },
     "execution_count": 58,
     "metadata": {},
     "output_type": "execute_result"
    },
    {
     "data": {
      "image/png": "[encoded data removed]",
      "text/plain": [
       "<Figure size 432x288 with 1 Axes>"
      ]
     },
     "metadata": {
      "needs_background": "light"
     },
     "output_type": "display_data"
    }
   ],
   "source": [
    "plt.plot(np.arange(0,len(survey_words)),survey_words.freq, marker='.',linewidth=0, label='Survey Responses')\n",
    "plt.plot(np.arange(0,len(other_freq)),other_freq.freq.sort_values(ascending=False), marker='.',linewidth=0, label='SymSpell Freq. Table')\n",
    "plt.legend()\n",
    "plt.loglog()\n",
    "plt.grid(linestyle=':')\n",
    "plt.ylabel('Normalized Frequency',fontsize=16)\n",
    "plt.xlabel('Rank',fontsize=16)\n",
    "#plt.loglog()"
   ]
  },
  {
   "cell_type": "code",
   "execution_count": 40,
   "metadata": {
    "ExecuteTime": {
     "end_time": "2020-03-22T19:31:56.090640Z",
     "start_time": "2020-03-22T19:31:55.436566Z"
    }
   },
   "outputs": [
    {
     "data": {
      "text/plain": [
       "[]"
      ]
     },
     "execution_count": 40,
     "metadata": {},
     "output_type": "execute_result"
    },
    {
     "data": {
      "image/png": "[encoded data removed]",
      "text/plain": [
       "<Figure size 432x288 with 1 Axes>"
      ]
     },
     "metadata": {
      "needs_background": "light"
     },
     "output_type": "display_data"
    }
   ],
   "source": [
    "plt.plot(np.arange(0,len(other_freq)),other_freq.freq, marker='.',linewidth=0)\n",
    "plt.loglog()"
   ]
  },
  {
   "cell_type": "code",
   "execution_count": null,
   "metadata": {},
   "outputs": [],
   "source": []
  }
 ],
 "metadata": {
  "kernelspec": {
   "display_name": "Python 3",
   "language": "python",
   "name": "python3"
  },
  "language_info": {
   "codemirror_mode": {
    "name": "ipython",
    "version": 3
   },
   "file_extension": ".py",
   "mimetype": "text/x-python",
   "name": "python",
   "nbconvert_exporter": "python",
   "pygments_lexer": "ipython3",
   "version": "3.7.1"
  },
  "toc": {
   "base_numbering": 1,
   "nav_menu": {},
   "number_sections": true,
   "sideBar": true,
   "skip_h1_title": false,
   "title_cell": "Table of Contents",
   "title_sidebar": "Contents",
   "toc_cell": false,
   "toc_position": {},
   "toc_section_display": true,
   "toc_window_display": false
  }
 },
 "nbformat": 4,
 "nbformat_minor": 2
}
