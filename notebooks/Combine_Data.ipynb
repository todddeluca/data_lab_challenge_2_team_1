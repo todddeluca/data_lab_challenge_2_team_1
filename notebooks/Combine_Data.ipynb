{
 "cells": [
  {
   "cell_type": "code",
   "execution_count": 123,
   "metadata": {
    "ExecuteTime": {
     "end_time": "2020-03-22T03:20:38.686923Z",
     "start_time": "2020-03-22T03:20:38.683568Z"
    }
   },
   "outputs": [],
   "source": [
    "import pandas as pd \n",
    "import matplotlib.pyplot as plt\n",
    "import numpy as np\n",
    "from datetime import datetime\n",
    "\n"
   ]
  },
  {
   "cell_type": "code",
   "execution_count": 242,
   "metadata": {
    "ExecuteTime": {
     "end_time": "2020-03-22T14:14:16.760156Z",
     "start_time": "2020-03-22T14:14:16.747567Z"
    }
   },
   "outputs": [],
   "source": [
    "import matplotlib.pylab as pylab\n",
    "\n",
    "params = {#'legend.fontsize': 'x-large',\n",
    "         #'axes.labelsize': 20,\n",
    "         #'axes.titlesize':'x-large',\n",
    "         'xtick.labelsize':20,\n",
    "         'ytick.labelsize':20}\n",
    "pylab.rcParams.update(params)"
   ]
  },
  {
   "cell_type": "code",
   "execution_count": 10,
   "metadata": {
    "ExecuteTime": {
     "end_time": "2020-03-21T02:44:59.475058Z",
     "start_time": "2020-03-21T02:44:50.172135Z"
    }
   },
   "outputs": [],
   "source": [
    "trigger_other = pd.read_excel('../data/all_paper_data.xlsx',sheet_name='Trigger Other')"
   ]
  },
  {
   "cell_type": "code",
   "execution_count": 11,
   "metadata": {
    "ExecuteTime": {
     "end_time": "2020-03-21T02:44:59.485969Z",
     "start_time": "2020-03-21T02:44:59.476099Z"
    }
   },
   "outputs": [
    {
     "data": {
      "text/html": [
       "<div>\n",
       "<style scoped>\n",
       "    .dataframe tbody tr th:only-of-type {\n",
       "        vertical-align: middle;\n",
       "    }\n",
       "\n",
       "    .dataframe tbody tr th {\n",
       "        vertical-align: top;\n",
       "    }\n",
       "\n",
       "    .dataframe thead th {\n",
       "        text-align: right;\n",
       "    }\n",
       "</style>\n",
       "<table border=\"1\" class=\"dataframe\">\n",
       "  <thead>\n",
       "    <tr style=\"text-align: right;\">\n",
       "      <th></th>\n",
       "      <th>Trig_date</th>\n",
       "      <th>District</th>\n",
       "      <th>Chiefdom</th>\n",
       "      <th>Section</th>\n",
       "      <th>Name_of_community</th>\n",
       "      <th>t_q1</th>\n",
       "      <th>t_q2</th>\n",
       "      <th>t_q3</th>\n",
       "      <th>t_q4</th>\n",
       "      <th>t_q5</th>\n",
       "      <th>t_q6</th>\n",
       "      <th>t_q7</th>\n",
       "      <th>t_q8</th>\n",
       "      <th>t_q9</th>\n",
       "      <th>t_q10</th>\n",
       "      <th>t_q11</th>\n",
       "    </tr>\n",
       "  </thead>\n",
       "  <tbody>\n",
       "    <tr>\n",
       "      <th>0</th>\n",
       "      <td>2014-10-12</td>\n",
       "      <td>Kailahun</td>\n",
       "      <td>Luawa</td>\n",
       "      <td>Baoma</td>\n",
       "      <td>Sokebo</td>\n",
       "      <td>Last week</td>\n",
       "      <td>1.0</td>\n",
       "      <td>1.0</td>\n",
       "      <td>Youth Leader</td>\n",
       "      <td>Very High</td>\n",
       "      <td>With the interrvention of Restless Development...</td>\n",
       "      <td>do we need to avoid all bush meat or just monkeys</td>\n",
       "      <td>Keeping sick persons in the community, Using t...</td>\n",
       "      <td>No sick person should be kept at home, No one ...</td>\n",
       "      <td>High rate of teenage pregnancy</td>\n",
       "      <td>They are capable of carrying out action plan a...</td>\n",
       "    </tr>\n",
       "    <tr>\n",
       "      <th>1</th>\n",
       "      <td>2014-11-12</td>\n",
       "      <td>Bo</td>\n",
       "      <td>Bagbo</td>\n",
       "      <td>Ngolapon</td>\n",
       "      <td>Ndeima</td>\n",
       "      <td>3weeks</td>\n",
       "      <td>1.0</td>\n",
       "      <td>1.0</td>\n",
       "      <td>Member</td>\n",
       "      <td>High</td>\n",
       "      <td>Late arrival of burial team, ineffectiveness o...</td>\n",
       "      <td>Why ebola is not curable</td>\n",
       "      <td>Poor awareness by the community</td>\n",
       "      <td>Strangers not allowed</td>\n",
       "      <td>To engage teenage mothers on livelihood activi...</td>\n",
       "      <td>NaN</td>\n",
       "    </tr>\n",
       "    <tr>\n",
       "      <th>2</th>\n",
       "      <td>2014-11-12</td>\n",
       "      <td>Bo</td>\n",
       "      <td>Jaiama Bongor</td>\n",
       "      <td>Upper Kama</td>\n",
       "      <td>Walihun</td>\n",
       "      <td>NaN</td>\n",
       "      <td>1.0</td>\n",
       "      <td>1.0</td>\n",
       "      <td>Member</td>\n",
       "      <td>High</td>\n",
       "      <td>Delay of the burial team</td>\n",
       "      <td>How do we know that someone has ebola</td>\n",
       "      <td>Accomodation of strangers</td>\n",
       "      <td>Guests not allowed</td>\n",
       "      <td>We need PPEs to bury our dead</td>\n",
       "      <td>There concern is that we they want the organis...</td>\n",
       "    </tr>\n",
       "    <tr>\n",
       "      <th>3</th>\n",
       "      <td>2014-11-12</td>\n",
       "      <td>Bo</td>\n",
       "      <td>Niawa Lenga</td>\n",
       "      <td>Lower</td>\n",
       "      <td>Mbelebu</td>\n",
       "      <td>NaN</td>\n",
       "      <td>1.0</td>\n",
       "      <td>1.0</td>\n",
       "      <td>ordinary citizen</td>\n",
       "      <td>High</td>\n",
       "      <td>they are not happy with the intervention of th...</td>\n",
       "      <td>when is Ebola going to come to an end?</td>\n",
       "      <td>touching an infected person,washing dead body.</td>\n",
       "      <td>strangers are not allowed in the community,sic...</td>\n",
       "      <td>8 members of the community have been appointed...</td>\n",
       "      <td>if they are given the necessary ,they can easi...</td>\n",
       "    </tr>\n",
       "    <tr>\n",
       "      <th>4</th>\n",
       "      <td>2014-11-12</td>\n",
       "      <td>Bo</td>\n",
       "      <td>Valunia</td>\n",
       "      <td>Lunia</td>\n",
       "      <td>Kpetema</td>\n",
       "      <td>4 weeks or more</td>\n",
       "      <td>1.0</td>\n",
       "      <td>1.0</td>\n",
       "      <td>youth leader</td>\n",
       "      <td>High</td>\n",
       "      <td>their concerns where the Gosl will be able to ...</td>\n",
       "      <td>Ifafter ebola they will be washing dead people.</td>\n",
       "      <td>The asses that the key risk of contacting ebol...</td>\n",
       "      <td>Not allowing stranger to enter and stay with t...</td>\n",
       "      <td>The government should support them because the...</td>\n",
       "      <td>Their expectation is very high.</td>\n",
       "    </tr>\n",
       "  </tbody>\n",
       "</table>\n",
       "</div>"
      ],
      "text/plain": [
       "   Trig_date  District       Chiefdom     Section Name_of_community  \\\n",
       "0 2014-10-12  Kailahun          Luawa       Baoma            Sokebo   \n",
       "1 2014-11-12        Bo          Bagbo    Ngolapon            Ndeima   \n",
       "2 2014-11-12        Bo  Jaiama Bongor  Upper Kama           Walihun   \n",
       "3 2014-11-12        Bo    Niawa Lenga       Lower           Mbelebu   \n",
       "4 2014-11-12        Bo        Valunia       Lunia           Kpetema   \n",
       "\n",
       "              t_q1  t_q2  t_q3              t_q4       t_q5  \\\n",
       "0        Last week   1.0   1.0      Youth Leader  Very High   \n",
       "1           3weeks   1.0   1.0            Member       High   \n",
       "2              NaN   1.0   1.0            Member       High   \n",
       "3              NaN   1.0   1.0  ordinary citizen       High   \n",
       "4  4 weeks or more   1.0   1.0      youth leader       High   \n",
       "\n",
       "                                                t_q6  \\\n",
       "0  With the interrvention of Restless Development...   \n",
       "1  Late arrival of burial team, ineffectiveness o...   \n",
       "2                           Delay of the burial team   \n",
       "3  they are not happy with the intervention of th...   \n",
       "4  their concerns where the Gosl will be able to ...   \n",
       "\n",
       "                                                t_q7  \\\n",
       "0  do we need to avoid all bush meat or just monkeys   \n",
       "1                           Why ebola is not curable   \n",
       "2              How do we know that someone has ebola   \n",
       "3             when is Ebola going to come to an end?   \n",
       "4    Ifafter ebola they will be washing dead people.   \n",
       "\n",
       "                                                t_q8  \\\n",
       "0  Keeping sick persons in the community, Using t...   \n",
       "1                    Poor awareness by the community   \n",
       "2                          Accomodation of strangers   \n",
       "3     touching an infected person,washing dead body.   \n",
       "4  The asses that the key risk of contacting ebol...   \n",
       "\n",
       "                                                t_q9  \\\n",
       "0  No sick person should be kept at home, No one ...   \n",
       "1                              Strangers not allowed   \n",
       "2                                 Guests not allowed   \n",
       "3  strangers are not allowed in the community,sic...   \n",
       "4  Not allowing stranger to enter and stay with t...   \n",
       "\n",
       "                                               t_q10  \\\n",
       "0                    High rate of teenage pregnancy    \n",
       "1  To engage teenage mothers on livelihood activi...   \n",
       "2                      We need PPEs to bury our dead   \n",
       "3  8 members of the community have been appointed...   \n",
       "4  The government should support them because the...   \n",
       "\n",
       "                                               t_q11  \n",
       "0  They are capable of carrying out action plan a...  \n",
       "1                                                NaN  \n",
       "2  There concern is that we they want the organis...  \n",
       "3  if they are given the necessary ,they can easi...  \n",
       "4                    Their expectation is very high.  "
      ]
     },
     "execution_count": 11,
     "metadata": {},
     "output_type": "execute_result"
    }
   ],
   "source": [
    "trigger_other.head()"
   ]
  },
  {
   "cell_type": "code",
   "execution_count": 12,
   "metadata": {
    "ExecuteTime": {
     "end_time": "2020-03-21T02:45:21.089162Z",
     "start_time": "2020-03-21T02:45:11.727302Z"
    }
   },
   "outputs": [],
   "source": [
    "follow_up_other = pd.read_excel('../data/all_paper_data.xlsx',sheet_name='Follow Up Other')"
   ]
  },
  {
   "cell_type": "code",
   "execution_count": 13,
   "metadata": {
    "ExecuteTime": {
     "end_time": "2020-03-21T02:45:48.746557Z",
     "start_time": "2020-03-21T02:45:48.734577Z"
    }
   },
   "outputs": [
    {
     "data": {
      "text/html": [
       "<div>\n",
       "<style scoped>\n",
       "    .dataframe tbody tr th:only-of-type {\n",
       "        vertical-align: middle;\n",
       "    }\n",
       "\n",
       "    .dataframe tbody tr th {\n",
       "        vertical-align: top;\n",
       "    }\n",
       "\n",
       "    .dataframe thead th {\n",
       "        text-align: right;\n",
       "    }\n",
       "</style>\n",
       "<table border=\"1\" class=\"dataframe\">\n",
       "  <thead>\n",
       "    <tr style=\"text-align: right;\">\n",
       "      <th></th>\n",
       "      <th>Date_of_Visit</th>\n",
       "      <th>District</th>\n",
       "      <th>Chiefdom</th>\n",
       "      <th>Section</th>\n",
       "      <th>Name_of_community</th>\n",
       "      <th>f_q1</th>\n",
       "      <th>f_q2</th>\n",
       "      <th>f_q3</th>\n",
       "      <th>f_q4</th>\n",
       "      <th>f_q5</th>\n",
       "      <th>f_q6</th>\n",
       "    </tr>\n",
       "  </thead>\n",
       "  <tbody>\n",
       "    <tr>\n",
       "      <th>0</th>\n",
       "      <td>2015-01-10 00:00:00</td>\n",
       "      <td>Bo</td>\n",
       "      <td>Komboya</td>\n",
       "      <td>NaN</td>\n",
       "      <td>Mano</td>\n",
       "      <td>NaN</td>\n",
       "      <td>NaN</td>\n",
       "      <td>NaN</td>\n",
       "      <td>they happy now that the medical team are reall...</td>\n",
       "      <td>no strnger is allow ,and hand washing is frequent</td>\n",
       "      <td>strangers are not allow,no body contact,no vis...</td>\n",
       "    </tr>\n",
       "    <tr>\n",
       "      <th>1</th>\n",
       "      <td>2015-01-06 00:00:00</td>\n",
       "      <td>Bo</td>\n",
       "      <td>Badjia</td>\n",
       "      <td>NaN</td>\n",
       "      <td>Normiyama</td>\n",
       "      <td>1.0</td>\n",
       "      <td>Yes because the community members were allowed...</td>\n",
       "      <td>NaN</td>\n",
       "      <td>They want government to reopen schools, when w...</td>\n",
       "      <td>Frequent and regular hand washing</td>\n",
       "      <td>Report all sick people to the health center</td>\n",
       "    </tr>\n",
       "    <tr>\n",
       "      <th>2</th>\n",
       "      <td>2015-01-07 00:00:00</td>\n",
       "      <td>Bo</td>\n",
       "      <td>Badjia</td>\n",
       "      <td>NaN</td>\n",
       "      <td>Saaso</td>\n",
       "      <td>0.0</td>\n",
       "      <td>NaN</td>\n",
       "      <td>Though there has been no death conducted by th...</td>\n",
       "      <td>Government should train community people to ca...</td>\n",
       "      <td>Frequent and regular hand washing</td>\n",
       "      <td>Refering all sick people to the health centre</td>\n",
       "    </tr>\n",
       "    <tr>\n",
       "      <th>3</th>\n",
       "      <td>2015-01-08 00:00:00</td>\n",
       "      <td>Bo</td>\n",
       "      <td>Badjia</td>\n",
       "      <td>NaN</td>\n",
       "      <td>Ngiehun</td>\n",
       "      <td>NaN</td>\n",
       "      <td>NaN</td>\n",
       "      <td>NaN</td>\n",
       "      <td>The reopening of schools, the reactivation of ...</td>\n",
       "      <td>Frequent and regular hand washing</td>\n",
       "      <td>No public or social gathering</td>\n",
       "    </tr>\n",
       "    <tr>\n",
       "      <th>4</th>\n",
       "      <td>2015-01-09 00:00:00</td>\n",
       "      <td>Bo</td>\n",
       "      <td>Badjia</td>\n",
       "      <td>NaN</td>\n",
       "      <td>Grima</td>\n",
       "      <td>NaN</td>\n",
       "      <td>NaN</td>\n",
       "      <td>NaN</td>\n",
       "      <td>The community members want veronical buckets a...</td>\n",
       "      <td>No Ebola cases in our community and all sick p...</td>\n",
       "      <td>No body contact or hand shaking</td>\n",
       "    </tr>\n",
       "  </tbody>\n",
       "</table>\n",
       "</div>"
      ],
      "text/plain": [
       "         Date_of_Visit District Chiefdom Section Name_of_community  f_q1  \\\n",
       "0  2015-01-10 00:00:00       Bo  Komboya     NaN              Mano   NaN   \n",
       "1  2015-01-06 00:00:00       Bo   Badjia     NaN         Normiyama   1.0   \n",
       "2  2015-01-07 00:00:00       Bo   Badjia     NaN             Saaso   0.0   \n",
       "3  2015-01-08 00:00:00       Bo   Badjia     NaN           Ngiehun   NaN   \n",
       "4  2015-01-09 00:00:00       Bo   Badjia     NaN             Grima   NaN   \n",
       "\n",
       "                                                f_q2  \\\n",
       "0                                                NaN   \n",
       "1  Yes because the community members were allowed...   \n",
       "2                                                NaN   \n",
       "3                                                NaN   \n",
       "4                                                NaN   \n",
       "\n",
       "                                                f_q3  \\\n",
       "0                                                NaN   \n",
       "1                                                NaN   \n",
       "2  Though there has been no death conducted by th...   \n",
       "3                                                NaN   \n",
       "4                                                NaN   \n",
       "\n",
       "                                                f_q4  \\\n",
       "0  they happy now that the medical team are reall...   \n",
       "1  They want government to reopen schools, when w...   \n",
       "2  Government should train community people to ca...   \n",
       "3  The reopening of schools, the reactivation of ...   \n",
       "4  The community members want veronical buckets a...   \n",
       "\n",
       "                                                f_q5  \\\n",
       "0  no strnger is allow ,and hand washing is frequent   \n",
       "1                  Frequent and regular hand washing   \n",
       "2                  Frequent and regular hand washing   \n",
       "3                  Frequent and regular hand washing   \n",
       "4  No Ebola cases in our community and all sick p...   \n",
       "\n",
       "                                                f_q6  \n",
       "0  strangers are not allow,no body contact,no vis...  \n",
       "1        Report all sick people to the health center  \n",
       "2      Refering all sick people to the health centre  \n",
       "3                      No public or social gathering  \n",
       "4                    No body contact or hand shaking  "
      ]
     },
     "execution_count": 13,
     "metadata": {},
     "output_type": "execute_result"
    }
   ],
   "source": [
    "follow_up_other.head()"
   ]
  },
  {
   "cell_type": "code",
   "execution_count": 15,
   "metadata": {
    "ExecuteTime": {
     "end_time": "2020-03-21T02:48:01.305503Z",
     "start_time": "2020-03-21T02:48:00.862325Z"
    }
   },
   "outputs": [],
   "source": [
    "digital = pd.read_csv('../data/digital.csv', low_memory=False)"
   ]
  },
  {
   "cell_type": "code",
   "execution_count": 18,
   "metadata": {
    "ExecuteTime": {
     "end_time": "2020-03-21T02:48:14.057984Z",
     "start_time": "2020-03-21T02:48:14.052664Z"
    }
   },
   "outputs": [
    {
     "data": {
      "text/plain": [
       "0         3/24/2015\n",
       "1         3/16/2015\n",
       "2         3/24/2015\n",
       "3         3/23/2015\n",
       "4         3/24/2015\n",
       "            ...    \n",
       "36601     8/16/2015\n",
       "36602     8/23/2015\n",
       "36603     8/30/2015\n",
       "36604    10/25/2015\n",
       "36605     11/8/2016\n",
       "Name: today, Length: 36606, dtype: object"
      ]
     },
     "execution_count": 18,
     "metadata": {},
     "output_type": "execute_result"
    }
   ],
   "source": [
    "digital.today"
   ]
  },
  {
   "cell_type": "markdown",
   "metadata": {},
   "source": [
    "## Datetime Plots"
   ]
  },
  {
   "cell_type": "code",
   "execution_count": 75,
   "metadata": {
    "ExecuteTime": {
     "end_time": "2020-03-21T03:08:38.758068Z",
     "start_time": "2020-03-21T03:08:38.748612Z"
    }
   },
   "outputs": [],
   "source": [
    "trigger_dt = pd.to_datetime(trigger_other.Trig_date, infer_datetime_format=True, exact=False)\n",
    "trigger_dt_range = pd.date_range(trigger_dt.min(), trigger_dt.max(),freq='D').values\n",
    "trigger_counts = trigger_dt.value_counts().sort_index()\n",
    "all_counts = trigger_counts.reindex(trigger_dt_range, fill_value=0)"
   ]
  },
  {
   "cell_type": "code",
   "execution_count": 93,
   "metadata": {
    "ExecuteTime": {
     "end_time": "2020-03-21T03:12:57.485406Z",
     "start_time": "2020-03-21T03:12:57.481204Z"
    }
   },
   "outputs": [],
   "source": [
    "def resilient_dt(dt_obj):\n",
    "    try:\n",
    "        return pd.to_datetime(dt_obj, infer_datetime_format=True, exact=False)\n",
    "    except:\n",
    "        return np.nan"
   ]
  },
  {
   "cell_type": "code",
   "execution_count": 148,
   "metadata": {
    "ExecuteTime": {
     "end_time": "2020-03-22T03:43:28.970653Z",
     "start_time": "2020-03-22T03:43:28.967686Z"
    }
   },
   "outputs": [],
   "source": [
    "def coerce_date(dt_obj, year):\n",
    "    try:\n",
    "        return dt_obj.replace(year=year)\n",
    "    except ValueError:\n",
    "        return np.nan"
   ]
  },
  {
   "cell_type": "code",
   "execution_count": 155,
   "metadata": {
    "ExecuteTime": {
     "end_time": "2020-03-22T03:46:51.045113Z",
     "start_time": "2020-03-22T03:46:51.039485Z"
    }
   },
   "outputs": [],
   "source": [
    "def fill_datetime(dt_obs, coerce_year = None):\n",
    "    \"\"\"Return datetime observations with consistent observation window\n",
    "    \"\"\"\n",
    "    temp_dt = dt_obs.apply(lambda x: resilient_dt(x))#pd.to_datetime(dt_obs, infer_datetime_format=True)\n",
    "    if coerce_year:\n",
    "        temp_dt = temp_dt.apply(lambda x: coerce_date(x,coerce_year)) \n",
    "    temp_dt_range = pd.date_range(temp_dt.min(), temp_dt.max(),freq='D').values\n",
    "    \n",
    "    temp_counts = temp_dt.value_counts().sort_index()\n",
    "    return temp_counts.reindex(temp_dt_range, fill_value=0)"
   ]
  },
  {
   "cell_type": "code",
   "execution_count": 106,
   "metadata": {
    "ExecuteTime": {
     "end_time": "2020-03-21T03:15:44.600901Z",
     "start_time": "2020-03-21T03:15:42.985271Z"
    }
   },
   "outputs": [],
   "source": [
    "f_res = follow_up_other.Date_of_Visit.apply(lambda x: resilient_dt(x))"
   ]
  },
  {
   "cell_type": "code",
   "execution_count": 108,
   "metadata": {
    "ExecuteTime": {
     "end_time": "2020-03-21T03:15:50.909724Z",
     "start_time": "2020-03-21T03:15:50.901830Z"
    }
   },
   "outputs": [
    {
     "data": {
      "text/plain": [
       "2015-02-12    476\n",
       "2015-02-11    331\n",
       "2015-02-05    328\n",
       "2015-03-14    316\n",
       "2015-02-10    304\n",
       "             ... \n",
       "2015-09-22      1\n",
       "2015-10-03      1\n",
       "2016-06-22      1\n",
       "2015-09-20      1\n",
       "2015-04-29      1\n",
       "Name: Date_of_Visit, Length: 299, dtype: int64"
      ]
     },
     "execution_count": 108,
     "metadata": {},
     "output_type": "execute_result"
    }
   ],
   "source": [
    "f_res.value_counts()"
   ]
  },
  {
   "cell_type": "code",
   "execution_count": 100,
   "metadata": {
    "ExecuteTime": {
     "end_time": "2020-03-21T03:14:31.011858Z",
     "start_time": "2020-03-21T03:14:30.976642Z"
    }
   },
   "outputs": [],
   "source": [
    "trigger_counts  = fill_datetime(trigger_other.Trig_date)"
   ]
  },
  {
   "cell_type": "code",
   "execution_count": 109,
   "metadata": {
    "ExecuteTime": {
     "end_time": "2020-03-21T03:16:01.045835Z",
     "start_time": "2020-03-21T03:15:59.425705Z"
    }
   },
   "outputs": [],
   "source": [
    "followup_counts  = fill_datetime(follow_up_other.Date_of_Visit)"
   ]
  },
  {
   "cell_type": "code",
   "execution_count": 156,
   "metadata": {
    "ExecuteTime": {
     "end_time": "2020-03-22T03:47:04.849528Z",
     "start_time": "2020-03-22T03:46:55.327530Z"
    }
   },
   "outputs": [],
   "source": [
    "digital_counts = fill_datetime(digital.today, 2015)"
   ]
  },
  {
   "cell_type": "code",
   "execution_count": 65,
   "metadata": {
    "ExecuteTime": {
     "end_time": "2020-03-21T03:01:17.435192Z",
     "start_time": "2020-03-21T03:01:17.248613Z"
    }
   },
   "outputs": [
    {
     "data": {
      "image/png": "[encoded data removed]",
      "text/plain": [
       "<Figure size 432x288 with 1 Axes>"
      ]
     },
     "metadata": {
      "needs_background": "light"
     },
     "output_type": "display_data"
    }
   ],
   "source": [
    "plt.bar(all_counts.index, all_counts.values,alpha=.7)\n",
    "plt.ylabel('N Trigger Events')\n",
    "plt.grid(linestyle=':',alpha=.5)"
   ]
  },
  {
   "cell_type": "code",
   "execution_count": 222,
   "metadata": {
    "ExecuteTime": {
     "end_time": "2020-03-22T14:03:46.126346Z",
     "start_time": "2020-03-22T14:03:46.122395Z"
    }
   },
   "outputs": [],
   "source": [
    "fc_b = followup_counts[followup_counts.index>datetime(2015,3,1)]"
   ]
  },
  {
   "cell_type": "code",
   "execution_count": 223,
   "metadata": {
    "ExecuteTime": {
     "end_time": "2020-03-22T14:03:49.358542Z",
     "start_time": "2020-03-22T14:03:46.379522Z"
    }
   },
   "outputs": [
    {
     "data": {
      "image/png": "[encoded data removed]",
      "text/plain": [
       "<Figure size 432x288 with 1 Axes>"
      ]
     },
     "metadata": {
      "needs_background": "light"
     },
     "output_type": "display_data"
    }
   ],
   "source": [
    "plt.bar(fc_b.index, fc_b.values,alpha=.7)\n",
    "plt.ylabel('N Trigger Events')\n",
    "plt.xlim(datetime(2014,1,1),datetime(2016,1,1))\n",
    "plt.grid(linestyle=':',alpha=.5)"
   ]
  },
  {
   "cell_type": "code",
   "execution_count": 166,
   "metadata": {
    "ExecuteTime": {
     "end_time": "2020-03-22T03:51:25.568335Z",
     "start_time": "2020-03-22T03:51:25.564777Z"
    },
    "scrolled": true
   },
   "outputs": [],
   "source": [
    "dc_b = digital_counts[(digital_counts.index>datetime(2015,3,1))]"
   ]
  },
  {
   "cell_type": "code",
   "execution_count": 168,
   "metadata": {
    "ExecuteTime": {
     "end_time": "2020-03-22T03:51:30.460295Z",
     "start_time": "2020-03-22T03:51:30.456746Z"
    }
   },
   "outputs": [
    {
     "data": {
      "text/plain": [
       "35095"
      ]
     },
     "execution_count": 168,
     "metadata": {},
     "output_type": "execute_result"
    }
   ],
   "source": [
    "dc_b.sum()"
   ]
  },
  {
   "cell_type": "code",
   "execution_count": 212,
   "metadata": {
    "ExecuteTime": {
     "end_time": "2020-03-22T14:02:27.624886Z",
     "start_time": "2020-03-22T14:02:27.613318Z"
    }
   },
   "outputs": [
    {
     "data": {
      "text/html": [
       "<div>\n",
       "<style scoped>\n",
       "    .dataframe tbody tr th:only-of-type {\n",
       "        vertical-align: middle;\n",
       "    }\n",
       "\n",
       "    .dataframe tbody tr th {\n",
       "        vertical-align: top;\n",
       "    }\n",
       "\n",
       "    .dataframe thead th {\n",
       "        text-align: right;\n",
       "    }\n",
       "</style>\n",
       "<table border=\"1\" class=\"dataframe\">\n",
       "  <thead>\n",
       "    <tr style=\"text-align: right;\">\n",
       "      <th></th>\n",
       "      <th>today</th>\n",
       "      <th>Date_of_Visit</th>\n",
       "    </tr>\n",
       "  </thead>\n",
       "  <tbody>\n",
       "    <tr>\n",
       "      <th>2014-03-02</th>\n",
       "      <td>NaN</td>\n",
       "      <td>0</td>\n",
       "    </tr>\n",
       "    <tr>\n",
       "      <th>2014-03-03</th>\n",
       "      <td>NaN</td>\n",
       "      <td>0</td>\n",
       "    </tr>\n",
       "    <tr>\n",
       "      <th>2014-03-04</th>\n",
       "      <td>NaN</td>\n",
       "      <td>0</td>\n",
       "    </tr>\n",
       "    <tr>\n",
       "      <th>2014-03-05</th>\n",
       "      <td>NaN</td>\n",
       "      <td>0</td>\n",
       "    </tr>\n",
       "    <tr>\n",
       "      <th>2014-03-06</th>\n",
       "      <td>NaN</td>\n",
       "      <td>0</td>\n",
       "    </tr>\n",
       "    <tr>\n",
       "      <th>...</th>\n",
       "      <td>...</td>\n",
       "      <td>...</td>\n",
       "    </tr>\n",
       "    <tr>\n",
       "      <th>2025-05-24</th>\n",
       "      <td>NaN</td>\n",
       "      <td>0</td>\n",
       "    </tr>\n",
       "    <tr>\n",
       "      <th>2025-05-25</th>\n",
       "      <td>NaN</td>\n",
       "      <td>0</td>\n",
       "    </tr>\n",
       "    <tr>\n",
       "      <th>2025-05-26</th>\n",
       "      <td>NaN</td>\n",
       "      <td>0</td>\n",
       "    </tr>\n",
       "    <tr>\n",
       "      <th>2025-05-27</th>\n",
       "      <td>NaN</td>\n",
       "      <td>0</td>\n",
       "    </tr>\n",
       "    <tr>\n",
       "      <th>2025-05-28</th>\n",
       "      <td>NaN</td>\n",
       "      <td>1</td>\n",
       "    </tr>\n",
       "  </tbody>\n",
       "</table>\n",
       "<p>4106 rows × 2 columns</p>\n",
       "</div>"
      ],
      "text/plain": [
       "            today  Date_of_Visit\n",
       "2014-03-02    NaN              0\n",
       "2014-03-03    NaN              0\n",
       "2014-03-04    NaN              0\n",
       "2014-03-05    NaN              0\n",
       "2014-03-06    NaN              0\n",
       "...           ...            ...\n",
       "2025-05-24    NaN              0\n",
       "2025-05-25    NaN              0\n",
       "2025-05-26    NaN              0\n",
       "2025-05-27    NaN              0\n",
       "2025-05-28    NaN              1\n",
       "\n",
       "[4106 rows x 2 columns]"
      ]
     },
     "execution_count": 212,
     "metadata": {},
     "output_type": "execute_result"
    }
   ],
   "source": [
    "pd.concat([dc_b,fc_b],axis=1)"
   ]
  },
  {
   "cell_type": "code",
   "execution_count": 213,
   "metadata": {
    "ExecuteTime": {
     "end_time": "2020-03-22T14:02:41.313531Z",
     "start_time": "2020-03-22T14:02:40.968605Z"
    }
   },
   "outputs": [
    {
     "data": {
      "text/plain": [
       "(array([735658., 735689., 735719., 735750., 735780., 735811., 735842.,\n",
       "        735872., 735903., 735933., 735964.]),\n",
       " <a list of 11 Text xticklabel objects>)"
      ]
     },
     "execution_count": 213,
     "metadata": {},
     "output_type": "execute_result"
    },
    {
     "data": {
      "image/png": "[encoded data removed]",
      "text/plain": [
       "<Figure size 432x288 with 1 Axes>"
      ]
     },
     "metadata": {
      "needs_background": "light"
     },
     "output_type": "display_data"
    }
   ],
   "source": [
    "plt.bar(dc_b.index, dc_b.values, alpha=.7)\n",
    "plt.ylabel('N Trigger Events')\n",
    "plt.grid(linestyle=':',alpha=.5)\n",
    "plt.xticks(rotation=90)"
   ]
  },
  {
   "cell_type": "code",
   "execution_count": 224,
   "metadata": {
    "ExecuteTime": {
     "end_time": "2020-03-22T14:03:54.231240Z",
     "start_time": "2020-03-22T14:03:54.227129Z"
    }
   },
   "outputs": [],
   "source": [
    "all_follow = pd.concat([dc_b,fc_b],axis=1)"
   ]
  },
  {
   "cell_type": "code",
   "execution_count": 225,
   "metadata": {
    "ExecuteTime": {
     "end_time": "2020-03-22T14:03:54.561377Z",
     "start_time": "2020-03-22T14:03:54.558479Z"
    }
   },
   "outputs": [],
   "source": [
    "all_follow.fillna(0,inplace=True)"
   ]
  },
  {
   "cell_type": "code",
   "execution_count": 226,
   "metadata": {
    "ExecuteTime": {
     "end_time": "2020-03-22T14:03:54.835690Z",
     "start_time": "2020-03-22T14:03:54.832815Z"
    }
   },
   "outputs": [],
   "source": [
    "all_follow = all_follow.today + all_follow.Date_of_Visit"
   ]
  },
  {
   "cell_type": "code",
   "execution_count": 245,
   "metadata": {
    "ExecuteTime": {
     "end_time": "2020-03-22T15:33:38.526548Z",
     "start_time": "2020-03-22T15:33:34.348453Z"
    }
   },
   "outputs": [
    {
     "ename": "AttributeError",
     "evalue": "'AxesSubplot' object has no attribute 'par'",
     "output_type": "error",
     "traceback": [
      "\u001b[0;31m---------------------------------------------------------------------------\u001b[0m",
      "\u001b[0;31mAttributeError\u001b[0m                            Traceback (most recent call last)",
      "\u001b[0;32m<ipython-input-245-994a1ab4c28c>\u001b[0m in \u001b[0;36m<module>\u001b[0;34m\u001b[0m\n\u001b[1;32m     19\u001b[0m \u001b[0ma\u001b[0m\u001b[0;34m[\u001b[0m\u001b[0;36m1\u001b[0m\u001b[0;34m]\u001b[0m\u001b[0;34m.\u001b[0m\u001b[0mset_xlim\u001b[0m\u001b[0;34m(\u001b[0m\u001b[0mdatetime\u001b[0m\u001b[0;34m(\u001b[0m\u001b[0;36m2014\u001b[0m\u001b[0;34m,\u001b[0m\u001b[0;36m11\u001b[0m\u001b[0;34m,\u001b[0m\u001b[0;36m1\u001b[0m\u001b[0;34m)\u001b[0m\u001b[0;34m,\u001b[0m\u001b[0mdatetime\u001b[0m\u001b[0;34m(\u001b[0m\u001b[0;36m2016\u001b[0m\u001b[0;34m,\u001b[0m\u001b[0;36m1\u001b[0m\u001b[0;34m,\u001b[0m\u001b[0;36m1\u001b[0m\u001b[0;34m)\u001b[0m\u001b[0;34m)\u001b[0m\u001b[0;34m\u001b[0m\u001b[0;34m\u001b[0m\u001b[0m\n\u001b[1;32m     20\u001b[0m \u001b[0ma\u001b[0m\u001b[0;34m[\u001b[0m\u001b[0;36m1\u001b[0m\u001b[0;34m]\u001b[0m\u001b[0;34m.\u001b[0m\u001b[0mlegend\u001b[0m\u001b[0;34m(\u001b[0m\u001b[0mfontsize\u001b[0m\u001b[0;34m=\u001b[0m\u001b[0;36m18\u001b[0m\u001b[0;34m)\u001b[0m\u001b[0;34m\u001b[0m\u001b[0;34m\u001b[0m\u001b[0m\n\u001b[0;32m---> 21\u001b[0;31m \u001b[0ma\u001b[0m\u001b[0;34m[\u001b[0m\u001b[0;36m1\u001b[0m\u001b[0;34m]\u001b[0m\u001b[0;34m.\u001b[0m\u001b[0mpar\u001b[0m \u001b[0;34m(\u001b[0m\u001b[0mxlabels\u001b[0m\u001b[0;34m,\u001b[0m \u001b[0mrotation\u001b[0m\u001b[0;34m=\u001b[0m\u001b[0;36m40\u001b[0m\u001b[0;34m)\u001b[0m\u001b[0;34m\u001b[0m\u001b[0;34m\u001b[0m\u001b[0m\n\u001b[0m\u001b[1;32m     22\u001b[0m \u001b[0;34m\u001b[0m\u001b[0m\n\u001b[1;32m     23\u001b[0m \u001b[0mf\u001b[0m\u001b[0;34m.\u001b[0m\u001b[0mtext\u001b[0m\u001b[0;34m(\u001b[0m\u001b[0;36m.025\u001b[0m\u001b[0;34m,\u001b[0m\u001b[0;36m.5\u001b[0m\u001b[0;34m,\u001b[0m\u001b[0;34m'N Community Visits'\u001b[0m\u001b[0;34m,\u001b[0m \u001b[0mva\u001b[0m\u001b[0;34m=\u001b[0m\u001b[0;34m'center'\u001b[0m\u001b[0;34m,\u001b[0m \u001b[0mrotation\u001b[0m\u001b[0;34m=\u001b[0m\u001b[0;36m90\u001b[0m\u001b[0;34m,\u001b[0m \u001b[0mfontsize\u001b[0m\u001b[0;34m=\u001b[0m\u001b[0;36m18\u001b[0m\u001b[0;34m)\u001b[0m\u001b[0;34m\u001b[0m\u001b[0;34m\u001b[0m\u001b[0m\n",
      "\u001b[0;31mAttributeError\u001b[0m: 'AxesSubplot' object has no attribute 'par'"
     ]
    },
    {
     "data": {
      "image/png": "[encoded data removed]",
      "text/plain": [
       "<Figure size 864x576 with 2 Axes>"
      ]
     },
     "metadata": {
      "needs_background": "light"
     },
     "output_type": "display_data"
    }
   ],
   "source": [
    "f,a = plt.subplots(2,1,figsize=(12,8))\n",
    "\n",
    "a=a.ravel()\n",
    "\n",
    "a[0].bar(all_counts.index, all_counts.values,alpha=.7,label='Triggering')\n",
    "a[0].legend(fontsize=18)\n",
    "#a[0].set_ylabel('N Trigger Events')\n",
    "a[0].grid(linestyle=':',alpha=.5)\n",
    "a[0].set_xlim(datetime(2014,11,1),datetime(2015,3,1))\n",
    "a[0].tick_params(axis='x',labelrotation=45,labelsize=8)\n",
    "\n",
    "\n",
    "a[1].bar(all_counts.index, all_counts.values,alpha=.7,label='Triggering')\n",
    "#a[1].set_ylabel('N Trigger Events')\n",
    "a[1].grid(linestyle=':',alpha=.5)\n",
    "#a[1].annotate('Triggering + follow-up',(.6,.8), xycoords='axes fraction', fontsize=18)\n",
    "\n",
    "a[1].bar(all_follow.index, all_follow.values,label='Follow-up')\n",
    "a[1].set_xlim(datetime(2014,11,1),datetime(2016,1,1))\n",
    "a[1].legend(fontsize=18)\n",
    "a[1].par (xlabels, rotation=40)\n",
    "\n",
    "f.text(.025,.5,'N Community Visits', va='center', rotation=90, fontsize=18)\n",
    "\n",
    "f.tight_layout()\n",
    "plt.subplots_adjust(left=.1)\n",
    "plt.savefig('Triggering_followup_counts.pdf')"
   ]
  },
  {
   "cell_type": "code",
   "execution_count": null,
   "metadata": {},
   "outputs": [],
   "source": []
  }
 ],
 "metadata": {
  "kernelspec": {
   "display_name": "Python 3",
   "language": "python",
   "name": "python3"
  },
  "language_info": {
   "codemirror_mode": {
    "name": "ipython",
    "version": 3
   },
   "file_extension": ".py",
   "mimetype": "text/x-python",
   "name": "python",
   "nbconvert_exporter": "python",
   "pygments_lexer": "ipython3",
   "version": "3.7.3"
  },
  "toc": {
   "base_numbering": 1,
   "nav_menu": {},
   "number_sections": true,
   "sideBar": true,
   "skip_h1_title": false,
   "title_cell": "Table of Contents",
   "title_sidebar": "Contents",
   "toc_cell": false,
   "toc_position": {},
   "toc_section_display": true,
   "toc_window_display": false
  }
 },
 "nbformat": 4,
 "nbformat_minor": 2
}
