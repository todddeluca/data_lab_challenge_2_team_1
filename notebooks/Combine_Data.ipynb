{
 "cells": [
  {
   "cell_type": "code",
   "execution_count": 1,
   "metadata": {
    "ExecuteTime": {
     "end_time": "2020-03-22T18:46:06.575798Z",
     "start_time": "2020-03-22T18:46:05.566849Z"
    }
   },
   "outputs": [],
   "source": [
    "import pandas as pd \n",
    "import matplotlib.pyplot as plt\n",
    "import numpy as np\n",
    "from datetime import datetime\n",
    "\n"
   ]
  },
  {
   "cell_type": "code",
   "execution_count": 2,
   "metadata": {
    "ExecuteTime": {
     "end_time": "2020-03-22T18:46:06.582347Z",
     "start_time": "2020-03-22T18:46:06.577806Z"
    }
   },
   "outputs": [],
   "source": [
    "import matplotlib.pylab as pylab\n",
    "\n",
    "params = {#'legend.fontsize': 'x-large',\n",
    "         #'axes.labelsize': 20,\n",
    "         #'axes.titlesize':'x-large',\n",
    "         'xtick.labelsize':20,\n",
    "         'ytick.labelsize':20}\n",
    "pylab.rcParams.update(params)"
   ]
  },
  {
   "cell_type": "code",
   "execution_count": 3,
   "metadata": {
    "ExecuteTime": {
     "end_time": "2020-03-22T18:46:19.179758Z",
     "start_time": "2020-03-22T18:46:07.310787Z"
    }
   },
   "outputs": [],
   "source": [
    "trigger_other = pd.read_excel('../data/all_paper_data.xlsx',sheet_name='Trigger Other')"
   ]
  },
  {
   "cell_type": "code",
   "execution_count": 4,
   "metadata": {
    "ExecuteTime": {
     "end_time": "2020-03-22T18:46:19.197539Z",
     "start_time": "2020-03-22T18:46:19.181489Z"
    }
   },
   "outputs": [
    {
     "data": {
      "text/html": [
       "<div>\n",
       "<style scoped>\n",
       "    .dataframe tbody tr th:only-of-type {\n",
       "        vertical-align: middle;\n",
       "    }\n",
       "\n",
       "    .dataframe tbody tr th {\n",
       "        vertical-align: top;\n",
       "    }\n",
       "\n",
       "    .dataframe thead th {\n",
       "        text-align: right;\n",
       "    }\n",
       "</style>\n",
       "<table border=\"1\" class=\"dataframe\">\n",
       "  <thead>\n",
       "    <tr style=\"text-align: right;\">\n",
       "      <th></th>\n",
       "      <th>Trig_date</th>\n",
       "      <th>District</th>\n",
       "      <th>Chiefdom</th>\n",
       "      <th>Section</th>\n",
       "      <th>Name_of_community</th>\n",
       "      <th>t_q1</th>\n",
       "      <th>t_q2</th>\n",
       "      <th>t_q3</th>\n",
       "      <th>t_q4</th>\n",
       "      <th>t_q5</th>\n",
       "      <th>t_q6</th>\n",
       "      <th>t_q7</th>\n",
       "      <th>t_q8</th>\n",
       "      <th>t_q9</th>\n",
       "      <th>t_q10</th>\n",
       "      <th>t_q11</th>\n",
       "    </tr>\n",
       "  </thead>\n",
       "  <tbody>\n",
       "    <tr>\n",
       "      <th>0</th>\n",
       "      <td>2014-10-12</td>\n",
       "      <td>Kailahun</td>\n",
       "      <td>Luawa</td>\n",
       "      <td>Baoma</td>\n",
       "      <td>Sokebo</td>\n",
       "      <td>Last week</td>\n",
       "      <td>1.0</td>\n",
       "      <td>1.0</td>\n",
       "      <td>Youth Leader</td>\n",
       "      <td>Very High</td>\n",
       "      <td>With the interrvention of Restless Development...</td>\n",
       "      <td>do we need to avoid all bush meat or just monkeys</td>\n",
       "      <td>Keeping sick persons in the community, Using t...</td>\n",
       "      <td>No sick person should be kept at home, No one ...</td>\n",
       "      <td>High rate of teenage pregnancy</td>\n",
       "      <td>They are capable of carrying out action plan a...</td>\n",
       "    </tr>\n",
       "    <tr>\n",
       "      <th>1</th>\n",
       "      <td>2014-11-12</td>\n",
       "      <td>Bo</td>\n",
       "      <td>Bagbo</td>\n",
       "      <td>Ngolapon</td>\n",
       "      <td>Ndeima</td>\n",
       "      <td>3weeks</td>\n",
       "      <td>1.0</td>\n",
       "      <td>1.0</td>\n",
       "      <td>Member</td>\n",
       "      <td>High</td>\n",
       "      <td>Late arrival of burial team, ineffectiveness o...</td>\n",
       "      <td>Why ebola is not curable</td>\n",
       "      <td>Poor awareness by the community</td>\n",
       "      <td>Strangers not allowed</td>\n",
       "      <td>To engage teenage mothers on livelihood activi...</td>\n",
       "      <td>NaN</td>\n",
       "    </tr>\n",
       "    <tr>\n",
       "      <th>2</th>\n",
       "      <td>2014-11-12</td>\n",
       "      <td>Bo</td>\n",
       "      <td>Jaiama Bongor</td>\n",
       "      <td>Upper Kama</td>\n",
       "      <td>Walihun</td>\n",
       "      <td>NaN</td>\n",
       "      <td>1.0</td>\n",
       "      <td>1.0</td>\n",
       "      <td>Member</td>\n",
       "      <td>High</td>\n",
       "      <td>Delay of the burial team</td>\n",
       "      <td>How do we know that someone has ebola</td>\n",
       "      <td>Accomodation of strangers</td>\n",
       "      <td>Guests not allowed</td>\n",
       "      <td>We need PPEs to bury our dead</td>\n",
       "      <td>There concern is that we they want the organis...</td>\n",
       "    </tr>\n",
       "    <tr>\n",
       "      <th>3</th>\n",
       "      <td>2014-11-12</td>\n",
       "      <td>Bo</td>\n",
       "      <td>Niawa Lenga</td>\n",
       "      <td>Lower</td>\n",
       "      <td>Mbelebu</td>\n",
       "      <td>NaN</td>\n",
       "      <td>1.0</td>\n",
       "      <td>1.0</td>\n",
       "      <td>ordinary citizen</td>\n",
       "      <td>High</td>\n",
       "      <td>they are not happy with the intervention of th...</td>\n",
       "      <td>when is Ebola going to come to an end?</td>\n",
       "      <td>touching an infected person,washing dead body.</td>\n",
       "      <td>strangers are not allowed in the community,sic...</td>\n",
       "      <td>8 members of the community have been appointed...</td>\n",
       "      <td>if they are given the necessary ,they can easi...</td>\n",
       "    </tr>\n",
       "    <tr>\n",
       "      <th>4</th>\n",
       "      <td>2014-11-12</td>\n",
       "      <td>Bo</td>\n",
       "      <td>Valunia</td>\n",
       "      <td>Lunia</td>\n",
       "      <td>Kpetema</td>\n",
       "      <td>4 weeks or more</td>\n",
       "      <td>1.0</td>\n",
       "      <td>1.0</td>\n",
       "      <td>youth leader</td>\n",
       "      <td>High</td>\n",
       "      <td>their concerns where the Gosl will be able to ...</td>\n",
       "      <td>Ifafter ebola they will be washing dead people.</td>\n",
       "      <td>The asses that the key risk of contacting ebol...</td>\n",
       "      <td>Not allowing stranger to enter and stay with t...</td>\n",
       "      <td>The government should support them because the...</td>\n",
       "      <td>Their expectation is very high.</td>\n",
       "    </tr>\n",
       "  </tbody>\n",
       "</table>\n",
       "</div>"
      ],
      "text/plain": [
       "   Trig_date  District       Chiefdom     Section Name_of_community  \\\n",
       "0 2014-10-12  Kailahun          Luawa       Baoma            Sokebo   \n",
       "1 2014-11-12        Bo          Bagbo    Ngolapon            Ndeima   \n",
       "2 2014-11-12        Bo  Jaiama Bongor  Upper Kama           Walihun   \n",
       "3 2014-11-12        Bo    Niawa Lenga       Lower           Mbelebu   \n",
       "4 2014-11-12        Bo        Valunia       Lunia           Kpetema   \n",
       "\n",
       "              t_q1  t_q2  t_q3              t_q4       t_q5  \\\n",
       "0        Last week   1.0   1.0      Youth Leader  Very High   \n",
       "1           3weeks   1.0   1.0            Member       High   \n",
       "2              NaN   1.0   1.0            Member       High   \n",
       "3              NaN   1.0   1.0  ordinary citizen       High   \n",
       "4  4 weeks or more   1.0   1.0      youth leader       High   \n",
       "\n",
       "                                                t_q6  \\\n",
       "0  With the interrvention of Restless Development...   \n",
       "1  Late arrival of burial team, ineffectiveness o...   \n",
       "2                           Delay of the burial team   \n",
       "3  they are not happy with the intervention of th...   \n",
       "4  their concerns where the Gosl will be able to ...   \n",
       "\n",
       "                                                t_q7  \\\n",
       "0  do we need to avoid all bush meat or just monkeys   \n",
       "1                           Why ebola is not curable   \n",
       "2              How do we know that someone has ebola   \n",
       "3             when is Ebola going to come to an end?   \n",
       "4    Ifafter ebola they will be washing dead people.   \n",
       "\n",
       "                                                t_q8  \\\n",
       "0  Keeping sick persons in the community, Using t...   \n",
       "1                    Poor awareness by the community   \n",
       "2                          Accomodation of strangers   \n",
       "3     touching an infected person,washing dead body.   \n",
       "4  The asses that the key risk of contacting ebol...   \n",
       "\n",
       "                                                t_q9  \\\n",
       "0  No sick person should be kept at home, No one ...   \n",
       "1                              Strangers not allowed   \n",
       "2                                 Guests not allowed   \n",
       "3  strangers are not allowed in the community,sic...   \n",
       "4  Not allowing stranger to enter and stay with t...   \n",
       "\n",
       "                                               t_q10  \\\n",
       "0                    High rate of teenage pregnancy    \n",
       "1  To engage teenage mothers on livelihood activi...   \n",
       "2                      We need PPEs to bury our dead   \n",
       "3  8 members of the community have been appointed...   \n",
       "4  The government should support them because the...   \n",
       "\n",
       "                                               t_q11  \n",
       "0  They are capable of carrying out action plan a...  \n",
       "1                                                NaN  \n",
       "2  There concern is that we they want the organis...  \n",
       "3  if they are given the necessary ,they can easi...  \n",
       "4                    Their expectation is very high.  "
      ]
     },
     "execution_count": 4,
     "metadata": {},
     "output_type": "execute_result"
    }
   ],
   "source": [
    "trigger_other.head()"
   ]
  },
  {
   "cell_type": "code",
   "execution_count": 5,
   "metadata": {
    "ExecuteTime": {
     "end_time": "2020-03-22T18:46:30.348873Z",
     "start_time": "2020-03-22T18:46:19.199731Z"
    }
   },
   "outputs": [],
   "source": [
    "follow_up_other = pd.read_excel('../data/all_paper_data.xlsx',sheet_name='Follow Up Other')"
   ]
  },
  {
   "cell_type": "code",
   "execution_count": 6,
   "metadata": {
    "ExecuteTime": {
     "end_time": "2020-03-22T18:46:30.361108Z",
     "start_time": "2020-03-22T18:46:30.351022Z"
    }
   },
   "outputs": [
    {
     "data": {
      "text/html": [
       "<div>\n",
       "<style scoped>\n",
       "    .dataframe tbody tr th:only-of-type {\n",
       "        vertical-align: middle;\n",
       "    }\n",
       "\n",
       "    .dataframe tbody tr th {\n",
       "        vertical-align: top;\n",
       "    }\n",
       "\n",
       "    .dataframe thead th {\n",
       "        text-align: right;\n",
       "    }\n",
       "</style>\n",
       "<table border=\"1\" class=\"dataframe\">\n",
       "  <thead>\n",
       "    <tr style=\"text-align: right;\">\n",
       "      <th></th>\n",
       "      <th>Date_of_Visit</th>\n",
       "      <th>District</th>\n",
       "      <th>Chiefdom</th>\n",
       "      <th>Section</th>\n",
       "      <th>Name_of_community</th>\n",
       "      <th>f_q1</th>\n",
       "      <th>f_q2</th>\n",
       "      <th>f_q3</th>\n",
       "      <th>f_q4</th>\n",
       "      <th>f_q5</th>\n",
       "      <th>f_q6</th>\n",
       "    </tr>\n",
       "  </thead>\n",
       "  <tbody>\n",
       "    <tr>\n",
       "      <th>0</th>\n",
       "      <td>2015-01-10 00:00:00</td>\n",
       "      <td>Bo</td>\n",
       "      <td>Komboya</td>\n",
       "      <td>NaN</td>\n",
       "      <td>Mano</td>\n",
       "      <td>NaN</td>\n",
       "      <td>NaN</td>\n",
       "      <td>NaN</td>\n",
       "      <td>they happy now that the medical team are reall...</td>\n",
       "      <td>no strnger is allow ,and hand washing is frequent</td>\n",
       "      <td>strangers are not allow,no body contact,no vis...</td>\n",
       "    </tr>\n",
       "    <tr>\n",
       "      <th>1</th>\n",
       "      <td>2015-01-06 00:00:00</td>\n",
       "      <td>Bo</td>\n",
       "      <td>Badjia</td>\n",
       "      <td>NaN</td>\n",
       "      <td>Normiyama</td>\n",
       "      <td>1.0</td>\n",
       "      <td>Yes because the community members were allowed...</td>\n",
       "      <td>NaN</td>\n",
       "      <td>They want government to reopen schools, when w...</td>\n",
       "      <td>Frequent and regular hand washing</td>\n",
       "      <td>Report all sick people to the health center</td>\n",
       "    </tr>\n",
       "    <tr>\n",
       "      <th>2</th>\n",
       "      <td>2015-01-07 00:00:00</td>\n",
       "      <td>Bo</td>\n",
       "      <td>Badjia</td>\n",
       "      <td>NaN</td>\n",
       "      <td>Saaso</td>\n",
       "      <td>0.0</td>\n",
       "      <td>NaN</td>\n",
       "      <td>Though there has been no death conducted by th...</td>\n",
       "      <td>Government should train community people to ca...</td>\n",
       "      <td>Frequent and regular hand washing</td>\n",
       "      <td>Refering all sick people to the health centre</td>\n",
       "    </tr>\n",
       "    <tr>\n",
       "      <th>3</th>\n",
       "      <td>2015-01-08 00:00:00</td>\n",
       "      <td>Bo</td>\n",
       "      <td>Badjia</td>\n",
       "      <td>NaN</td>\n",
       "      <td>Ngiehun</td>\n",
       "      <td>NaN</td>\n",
       "      <td>NaN</td>\n",
       "      <td>NaN</td>\n",
       "      <td>The reopening of schools, the reactivation of ...</td>\n",
       "      <td>Frequent and regular hand washing</td>\n",
       "      <td>No public or social gathering</td>\n",
       "    </tr>\n",
       "    <tr>\n",
       "      <th>4</th>\n",
       "      <td>2015-01-09 00:00:00</td>\n",
       "      <td>Bo</td>\n",
       "      <td>Badjia</td>\n",
       "      <td>NaN</td>\n",
       "      <td>Grima</td>\n",
       "      <td>NaN</td>\n",
       "      <td>NaN</td>\n",
       "      <td>NaN</td>\n",
       "      <td>The community members want veronical buckets a...</td>\n",
       "      <td>No Ebola cases in our community and all sick p...</td>\n",
       "      <td>No body contact or hand shaking</td>\n",
       "    </tr>\n",
       "  </tbody>\n",
       "</table>\n",
       "</div>"
      ],
      "text/plain": [
       "         Date_of_Visit District Chiefdom Section Name_of_community  f_q1  \\\n",
       "0  2015-01-10 00:00:00       Bo  Komboya     NaN              Mano   NaN   \n",
       "1  2015-01-06 00:00:00       Bo   Badjia     NaN         Normiyama   1.0   \n",
       "2  2015-01-07 00:00:00       Bo   Badjia     NaN             Saaso   0.0   \n",
       "3  2015-01-08 00:00:00       Bo   Badjia     NaN           Ngiehun   NaN   \n",
       "4  2015-01-09 00:00:00       Bo   Badjia     NaN             Grima   NaN   \n",
       "\n",
       "                                                f_q2  \\\n",
       "0                                                NaN   \n",
       "1  Yes because the community members were allowed...   \n",
       "2                                                NaN   \n",
       "3                                                NaN   \n",
       "4                                                NaN   \n",
       "\n",
       "                                                f_q3  \\\n",
       "0                                                NaN   \n",
       "1                                                NaN   \n",
       "2  Though there has been no death conducted by th...   \n",
       "3                                                NaN   \n",
       "4                                                NaN   \n",
       "\n",
       "                                                f_q4  \\\n",
       "0  they happy now that the medical team are reall...   \n",
       "1  They want government to reopen schools, when w...   \n",
       "2  Government should train community people to ca...   \n",
       "3  The reopening of schools, the reactivation of ...   \n",
       "4  The community members want veronical buckets a...   \n",
       "\n",
       "                                                f_q5  \\\n",
       "0  no strnger is allow ,and hand washing is frequent   \n",
       "1                  Frequent and regular hand washing   \n",
       "2                  Frequent and regular hand washing   \n",
       "3                  Frequent and regular hand washing   \n",
       "4  No Ebola cases in our community and all sick p...   \n",
       "\n",
       "                                                f_q6  \n",
       "0  strangers are not allow,no body contact,no vis...  \n",
       "1        Report all sick people to the health center  \n",
       "2      Refering all sick people to the health centre  \n",
       "3                      No public or social gathering  \n",
       "4                    No body contact or hand shaking  "
      ]
     },
     "execution_count": 6,
     "metadata": {},
     "output_type": "execute_result"
    }
   ],
   "source": [
    "follow_up_other.head()"
   ]
  },
  {
   "cell_type": "code",
   "execution_count": 7,
   "metadata": {
    "ExecuteTime": {
     "end_time": "2020-03-22T18:46:31.462296Z",
     "start_time": "2020-03-22T18:46:30.362601Z"
    }
   },
   "outputs": [],
   "source": [
    "digital = pd.read_csv('../data/digital.csv', low_memory=False)"
   ]
  },
  {
   "cell_type": "code",
   "execution_count": 8,
   "metadata": {
    "ExecuteTime": {
     "end_time": "2020-03-22T18:46:31.468109Z",
     "start_time": "2020-03-22T18:46:31.464020Z"
    }
   },
   "outputs": [
    {
     "data": {
      "text/plain": [
       "0         3/24/2015\n",
       "1         3/16/2015\n",
       "2         3/24/2015\n",
       "3         3/23/2015\n",
       "4         3/24/2015\n",
       "            ...    \n",
       "36601     8/16/2015\n",
       "36602     8/23/2015\n",
       "36603     8/30/2015\n",
       "36604    10/25/2015\n",
       "36605     11/8/2016\n",
       "Name: today, Length: 36606, dtype: object"
      ]
     },
     "execution_count": 8,
     "metadata": {},
     "output_type": "execute_result"
    }
   ],
   "source": [
    "digital.today"
   ]
  },
  {
   "cell_type": "markdown",
   "metadata": {},
   "source": [
    "## Datetime Plots"
   ]
  },
  {
   "cell_type": "code",
   "execution_count": 9,
   "metadata": {
    "ExecuteTime": {
     "end_time": "2020-03-22T18:46:31.476745Z",
     "start_time": "2020-03-22T18:46:31.469674Z"
    }
   },
   "outputs": [],
   "source": [
    "trigger_dt = pd.to_datetime(trigger_other.Trig_date, infer_datetime_format=True, exact=False)\n",
    "trigger_dt_range = pd.date_range(trigger_dt.min(), trigger_dt.max(),freq='D').values\n",
    "trigger_counts = trigger_dt.value_counts().sort_index()\n",
    "all_counts = trigger_counts.reindex(trigger_dt_range, fill_value=0)"
   ]
  },
  {
   "cell_type": "code",
   "execution_count": 10,
   "metadata": {
    "ExecuteTime": {
     "end_time": "2020-03-22T18:46:31.482382Z",
     "start_time": "2020-03-22T18:46:31.479808Z"
    }
   },
   "outputs": [],
   "source": [
    "def resilient_dt(dt_obj):\n",
    "    try:\n",
    "        return pd.to_datetime(dt_obj, infer_datetime_format=True, exact=False)\n",
    "    except:\n",
    "        return np.nan"
   ]
  },
  {
   "cell_type": "code",
   "execution_count": 11,
   "metadata": {
    "ExecuteTime": {
     "end_time": "2020-03-22T18:46:31.487427Z",
     "start_time": "2020-03-22T18:46:31.484851Z"
    }
   },
   "outputs": [],
   "source": [
    "def coerce_date(dt_obj, year):\n",
    "    try:\n",
    "        return dt_obj.replace(year=year)\n",
    "    except ValueError:\n",
    "        return np.nan"
   ]
  },
  {
   "cell_type": "code",
   "execution_count": 12,
   "metadata": {
    "ExecuteTime": {
     "end_time": "2020-03-22T18:46:31.493025Z",
     "start_time": "2020-03-22T18:46:31.488982Z"
    }
   },
   "outputs": [],
   "source": [
    "def fill_datetime(dt_obs, coerce_year = None):\n",
    "    \"\"\"Return datetime observations with consistent observation window\n",
    "    \"\"\"\n",
    "    temp_dt = dt_obs.apply(lambda x: resilient_dt(x))#pd.to_datetime(dt_obs, infer_datetime_format=True)\n",
    "    if coerce_year:\n",
    "        temp_dt = temp_dt.apply(lambda x: coerce_date(x,coerce_year)) \n",
    "    temp_dt_range = pd.date_range(temp_dt.min(), temp_dt.max(),freq='D').values\n",
    "    \n",
    "    temp_counts = temp_dt.value_counts().sort_index()\n",
    "    return temp_counts.reindex(temp_dt_range, fill_value=0)"
   ]
  },
  {
   "cell_type": "code",
   "execution_count": 13,
   "metadata": {
    "ExecuteTime": {
     "end_time": "2020-03-22T18:46:33.641131Z",
     "start_time": "2020-03-22T18:46:31.494705Z"
    }
   },
   "outputs": [],
   "source": [
    "f_res = follow_up_other.Date_of_Visit.apply(lambda x: resilient_dt(x))"
   ]
  },
  {
   "cell_type": "code",
   "execution_count": 14,
   "metadata": {
    "ExecuteTime": {
     "end_time": "2020-03-22T18:46:33.648392Z",
     "start_time": "2020-03-22T18:46:33.642783Z"
    }
   },
   "outputs": [
    {
     "data": {
      "text/plain": [
       "2015-02-12    476\n",
       "2015-02-11    331\n",
       "2015-02-05    328\n",
       "2015-03-14    316\n",
       "2015-02-10    304\n",
       "             ... \n",
       "2015-09-22      1\n",
       "2015-10-03      1\n",
       "2016-06-22      1\n",
       "2015-09-20      1\n",
       "2015-04-29      1\n",
       "Name: Date_of_Visit, Length: 299, dtype: int64"
      ]
     },
     "execution_count": 14,
     "metadata": {},
     "output_type": "execute_result"
    }
   ],
   "source": [
    "f_res.value_counts()"
   ]
  },
  {
   "cell_type": "code",
   "execution_count": 15,
   "metadata": {
    "ExecuteTime": {
     "end_time": "2020-03-22T18:46:33.680984Z",
     "start_time": "2020-03-22T18:46:33.649924Z"
    }
   },
   "outputs": [],
   "source": [
    "trigger_counts  = fill_datetime(trigger_other.Trig_date)"
   ]
  },
  {
   "cell_type": "code",
   "execution_count": 16,
   "metadata": {
    "ExecuteTime": {
     "end_time": "2020-03-22T18:46:35.761262Z",
     "start_time": "2020-03-22T18:46:33.682696Z"
    }
   },
   "outputs": [],
   "source": [
    "followup_counts  = fill_datetime(follow_up_other.Date_of_Visit)"
   ]
  },
  {
   "cell_type": "code",
   "execution_count": 17,
   "metadata": {
    "ExecuteTime": {
     "end_time": "2020-03-22T18:46:47.862857Z",
     "start_time": "2020-03-22T18:46:35.762504Z"
    }
   },
   "outputs": [],
   "source": [
    "digital_counts = fill_datetime(digital.today, 2015)"
   ]
  },
  {
   "cell_type": "code",
   "execution_count": 18,
   "metadata": {
    "ExecuteTime": {
     "end_time": "2020-03-22T18:46:48.152391Z",
     "start_time": "2020-03-22T18:46:47.864462Z"
    }
   },
   "outputs": [
    {
     "name": "stderr",
     "output_type": "stream",
     "text": [
      "/Users/joshuaminot/anaconda3/lib/python3.7/site-packages/pandas/plotting/_matplotlib/converter.py:103: FutureWarning: Using an implicitly registered datetime converter for a matplotlib plotting method. The converter was registered by pandas on import. Future versions of pandas will require you to explicitly register matplotlib converters.\n",
      "\n",
      "To register the converters:\n",
      "\t>>> from pandas.plotting import register_matplotlib_converters\n",
      "\t>>> register_matplotlib_converters()\n",
      "  warnings.warn(msg, FutureWarning)\n"
     ]
    },
    {
     "data": {
      "image/png": "[encoded data removed]",
      "text/plain": [
       "<Figure size 432x288 with 1 Axes>"
      ]
     },
     "metadata": {
      "needs_background": "light"
     },
     "output_type": "display_data"
    }
   ],
   "source": [
    "plt.bar(all_counts.index, all_counts.values,alpha=.7)\n",
    "plt.ylabel('N Trigger Events')\n",
    "plt.grid(linestyle=':',alpha=.5)"
   ]
  },
  {
   "cell_type": "code",
   "execution_count": 19,
   "metadata": {
    "ExecuteTime": {
     "end_time": "2020-03-22T18:46:48.157817Z",
     "start_time": "2020-03-22T18:46:48.154197Z"
    }
   },
   "outputs": [],
   "source": [
    "fc_b = followup_counts[followup_counts.index>datetime(2015,3,1)]"
   ]
  },
  {
   "cell_type": "code",
   "execution_count": 20,
   "metadata": {
    "ExecuteTime": {
     "end_time": "2020-03-22T18:46:53.687876Z",
     "start_time": "2020-03-22T18:46:48.159868Z"
    }
   },
   "outputs": [
    {
     "data": {
      "image/png": "[encoded data removed]",
      "text/plain": [
       "<Figure size 432x288 with 1 Axes>"
      ]
     },
     "metadata": {
      "needs_background": "light"
     },
     "output_type": "display_data"
    }
   ],
   "source": [
    "plt.bar(fc_b.index, fc_b.values,alpha=.7)\n",
    "plt.ylabel('N Trigger Events')\n",
    "plt.xlim(datetime(2014,1,1),datetime(2016,1,1))\n",
    "plt.grid(linestyle=':',alpha=.5)"
   ]
  },
  {
   "cell_type": "code",
   "execution_count": 21,
   "metadata": {
    "ExecuteTime": {
     "end_time": "2020-03-22T18:46:53.693254Z",
     "start_time": "2020-03-22T18:46:53.689879Z"
    },
    "scrolled": true
   },
   "outputs": [],
   "source": [
    "dc_b = digital_counts[(digital_counts.index>datetime(2015,3,1))]"
   ]
  },
  {
   "cell_type": "code",
   "execution_count": 22,
   "metadata": {
    "ExecuteTime": {
     "end_time": "2020-03-22T18:46:53.699591Z",
     "start_time": "2020-03-22T18:46:53.695444Z"
    }
   },
   "outputs": [
    {
     "data": {
      "text/plain": [
       "35095"
      ]
     },
     "execution_count": 22,
     "metadata": {},
     "output_type": "execute_result"
    }
   ],
   "source": [
    "dc_b.sum()"
   ]
  },
  {
   "cell_type": "code",
   "execution_count": 23,
   "metadata": {
    "ExecuteTime": {
     "end_time": "2020-03-22T18:46:53.712608Z",
     "start_time": "2020-03-22T18:46:53.701332Z"
    }
   },
   "outputs": [
    {
     "data": {
      "text/html": [
       "<div>\n",
       "<style scoped>\n",
       "    .dataframe tbody tr th:only-of-type {\n",
       "        vertical-align: middle;\n",
       "    }\n",
       "\n",
       "    .dataframe tbody tr th {\n",
       "        vertical-align: top;\n",
       "    }\n",
       "\n",
       "    .dataframe thead th {\n",
       "        text-align: right;\n",
       "    }\n",
       "</style>\n",
       "<table border=\"1\" class=\"dataframe\">\n",
       "  <thead>\n",
       "    <tr style=\"text-align: right;\">\n",
       "      <th></th>\n",
       "      <th>today</th>\n",
       "      <th>Date_of_Visit</th>\n",
       "    </tr>\n",
       "  </thead>\n",
       "  <tbody>\n",
       "    <tr>\n",
       "      <th>2015-03-02</th>\n",
       "      <td>5.0</td>\n",
       "      <td>38</td>\n",
       "    </tr>\n",
       "    <tr>\n",
       "      <th>2015-03-03</th>\n",
       "      <td>7.0</td>\n",
       "      <td>57</td>\n",
       "    </tr>\n",
       "    <tr>\n",
       "      <th>2015-03-04</th>\n",
       "      <td>7.0</td>\n",
       "      <td>145</td>\n",
       "    </tr>\n",
       "    <tr>\n",
       "      <th>2015-03-05</th>\n",
       "      <td>4.0</td>\n",
       "      <td>45</td>\n",
       "    </tr>\n",
       "    <tr>\n",
       "      <th>2015-03-06</th>\n",
       "      <td>6.0</td>\n",
       "      <td>102</td>\n",
       "    </tr>\n",
       "    <tr>\n",
       "      <th>...</th>\n",
       "      <td>...</td>\n",
       "      <td>...</td>\n",
       "    </tr>\n",
       "    <tr>\n",
       "      <th>2025-05-24</th>\n",
       "      <td>NaN</td>\n",
       "      <td>0</td>\n",
       "    </tr>\n",
       "    <tr>\n",
       "      <th>2025-05-25</th>\n",
       "      <td>NaN</td>\n",
       "      <td>0</td>\n",
       "    </tr>\n",
       "    <tr>\n",
       "      <th>2025-05-26</th>\n",
       "      <td>NaN</td>\n",
       "      <td>0</td>\n",
       "    </tr>\n",
       "    <tr>\n",
       "      <th>2025-05-27</th>\n",
       "      <td>NaN</td>\n",
       "      <td>0</td>\n",
       "    </tr>\n",
       "    <tr>\n",
       "      <th>2025-05-28</th>\n",
       "      <td>NaN</td>\n",
       "      <td>1</td>\n",
       "    </tr>\n",
       "  </tbody>\n",
       "</table>\n",
       "<p>3741 rows × 2 columns</p>\n",
       "</div>"
      ],
      "text/plain": [
       "            today  Date_of_Visit\n",
       "2015-03-02    5.0             38\n",
       "2015-03-03    7.0             57\n",
       "2015-03-04    7.0            145\n",
       "2015-03-05    4.0             45\n",
       "2015-03-06    6.0            102\n",
       "...           ...            ...\n",
       "2025-05-24    NaN              0\n",
       "2025-05-25    NaN              0\n",
       "2025-05-26    NaN              0\n",
       "2025-05-27    NaN              0\n",
       "2025-05-28    NaN              1\n",
       "\n",
       "[3741 rows x 2 columns]"
      ]
     },
     "execution_count": 23,
     "metadata": {},
     "output_type": "execute_result"
    }
   ],
   "source": [
    "pd.concat([dc_b,fc_b],axis=1)"
   ]
  },
  {
   "cell_type": "code",
   "execution_count": 24,
   "metadata": {
    "ExecuteTime": {
     "end_time": "2020-03-22T18:46:54.369522Z",
     "start_time": "2020-03-22T18:46:53.714072Z"
    }
   },
   "outputs": [
    {
     "data": {
      "text/plain": [
       "(array([735658., 735689., 735719., 735750., 735780., 735811., 735842.,\n",
       "        735872., 735903., 735933., 735964.]),\n",
       " <a list of 11 Text xticklabel objects>)"
      ]
     },
     "execution_count": 24,
     "metadata": {},
     "output_type": "execute_result"
    },
    {
     "data": {
      "image/png": "[encoded data removed]",
      "text/plain": [
       "<Figure size 432x288 with 1 Axes>"
      ]
     },
     "metadata": {
      "needs_background": "light"
     },
     "output_type": "display_data"
    }
   ],
   "source": [
    "plt.bar(dc_b.index, dc_b.values, alpha=.7)\n",
    "plt.ylabel('N Trigger Events')\n",
    "plt.grid(linestyle=':',alpha=.5)\n",
    "plt.xticks(rotation=90)"
   ]
  },
  {
   "cell_type": "code",
   "execution_count": 25,
   "metadata": {
    "ExecuteTime": {
     "end_time": "2020-03-22T18:46:54.377986Z",
     "start_time": "2020-03-22T18:46:54.374704Z"
    }
   },
   "outputs": [],
   "source": [
    "all_follow = pd.concat([dc_b,fc_b],axis=1)"
   ]
  },
  {
   "cell_type": "code",
   "execution_count": 26,
   "metadata": {
    "ExecuteTime": {
     "end_time": "2020-03-22T18:46:54.382180Z",
     "start_time": "2020-03-22T18:46:54.379847Z"
    }
   },
   "outputs": [],
   "source": [
    "all_follow.fillna(0,inplace=True)"
   ]
  },
  {
   "cell_type": "code",
   "execution_count": 27,
   "metadata": {
    "ExecuteTime": {
     "end_time": "2020-03-22T18:46:54.388987Z",
     "start_time": "2020-03-22T18:46:54.383586Z"
    }
   },
   "outputs": [],
   "source": [
    "all_follow = all_follow.today + all_follow.Date_of_Visit"
   ]
  },
  {
   "cell_type": "code",
   "execution_count": 35,
   "metadata": {
    "ExecuteTime": {
     "end_time": "2020-03-22T22:27:03.167489Z",
     "start_time": "2020-03-22T22:26:33.037438Z"
    },
    "scrolled": false
   },
   "outputs": [
    {
     "data": {
      "image/png": "[encoded data removed]",
      "text/plain": [
       "<Figure size 864x576 with 2 Axes>"
      ]
     },
     "metadata": {
      "needs_background": "light"
     },
     "output_type": "display_data"
    }
   ],
   "source": [
    "f,a = plt.subplots(2,1,figsize=(12,8))\n",
    "\n",
    "a=a.ravel()\n",
    "\n",
    "a[0].bar(all_counts.index, all_counts.values,alpha=.7,label='Triggering')\n",
    "a[0].legend(fontsize=18)\n",
    "#a[0].set_ylabel('N Trigger Events')\n",
    "a[0].grid(linestyle=':',alpha=.5)\n",
    "a[0].set_xlim(datetime(2014,11,1),datetime(2015,3,1))\n",
    "a[0].tick_params(axis='x',labelrotation=0,labelsize=12)\n",
    "\n",
    "\n",
    "a[1].bar(all_counts.index, all_counts.values,alpha=.7,label='Triggering')\n",
    "#a[1].set_ylabel('N Trigger Events')\n",
    "a[1].grid(linestyle=':',alpha=.5)\n",
    "#a[1].annotate('Triggering + follow-up',(.6,.8), xycoords='axes fraction', fontsize=18)\n",
    "\n",
    "a[1].bar(all_follow.index, all_follow.values,label='Follow-up')\n",
    "a[1].set_xlim(datetime(2014,11,1),datetime(2016,1,1))\n",
    "a[1].legend(fontsize=18)\n",
    "#a[1].bar(all_counts.index, all_counts.values)\n",
    "a[1].tick_params(axis='x',labelrotation=0,labelsize=12)\n",
    "\n",
    "f.text(.025,.5,'N Community Visits', va='center', rotation=90, fontsize=18)\n",
    "\n",
    "f.tight_layout()\n",
    "plt.subplots_adjust(left=.1)\n",
    "plt.savefig('Triggering_followup_counts.pdf')"
   ]
  },
  {
   "cell_type": "code",
   "execution_count": null,
   "metadata": {},
   "outputs": [],
   "source": []
  }
 ],
 "metadata": {
  "kernelspec": {
   "display_name": "Python 3",
   "language": "python",
   "name": "python3"
  },
  "language_info": {
   "codemirror_mode": {
    "name": "ipython",
    "version": 3
   },
   "file_extension": ".py",
   "mimetype": "text/x-python",
   "name": "python",
   "nbconvert_exporter": "python",
   "pygments_lexer": "ipython3",
   "version": "3.7.1"
  },
  "toc": {
   "base_numbering": 1,
   "nav_menu": {},
   "number_sections": true,
   "sideBar": true,
   "skip_h1_title": false,
   "title_cell": "Table of Contents",
   "title_sidebar": "Contents",
   "toc_cell": false,
   "toc_position": {},
   "toc_section_display": true,
   "toc_window_display": false
  }
 },
 "nbformat": 4,
 "nbformat_minor": 2
}
