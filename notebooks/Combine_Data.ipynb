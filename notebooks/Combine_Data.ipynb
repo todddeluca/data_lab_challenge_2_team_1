{
 "cells": [
  {
   "cell_type": "code",
   "execution_count": 1,
   "metadata": {
    "ExecuteTime": {
     "end_time": "2020-03-23T19:54:29.442538Z",
     "start_time": "2020-03-23T19:54:29.188957Z"
    }
   },
   "outputs": [],
   "source": [
    "import pandas as pd \n",
    "import matplotlib.pyplot as plt\n",
    "import numpy as np\n",
    "from datetime import datetime\n",
    "\n"
   ]
  },
  {
   "cell_type": "code",
   "execution_count": 2,
   "metadata": {
    "ExecuteTime": {
     "end_time": "2020-03-23T19:54:29.515644Z",
     "start_time": "2020-03-23T19:54:29.512183Z"
    }
   },
   "outputs": [],
   "source": [
    "import matplotlib.pylab as pylab\n",
    "\n",
    "params = {#'legend.fontsize': 'x-large',\n",
    "         #'axes.labelsize': 20,\n",
    "         #'axes.titlesize':'x-large',\n",
    "         'xtick.labelsize':20,\n",
    "         'ytick.labelsize':20}\n",
    "pylab.rcParams.update(params)"
   ]
  },
  {
   "cell_type": "code",
   "execution_count": 45,
   "metadata": {
    "ExecuteTime": {
     "end_time": "2020-03-23T20:42:59.773597Z",
     "start_time": "2020-03-23T20:42:49.902343Z"
    }
   },
   "outputs": [],
   "source": [
    "trigger_other = pd.read_excel('../data/all_paper_data.xlsx',sheet_name='Trigger Other')"
   ]
  },
  {
   "cell_type": "code",
   "execution_count": 4,
   "metadata": {
    "ExecuteTime": {
     "end_time": "2020-03-23T19:54:39.572877Z",
     "start_time": "2020-03-23T19:54:39.564159Z"
    }
   },
   "outputs": [
    {
     "data": {
      "text/html": [
       "<div>\n",
       "<style scoped>\n",
       "    .dataframe tbody tr th:only-of-type {\n",
       "        vertical-align: middle;\n",
       "    }\n",
       "\n",
       "    .dataframe tbody tr th {\n",
       "        vertical-align: top;\n",
       "    }\n",
       "\n",
       "    .dataframe thead th {\n",
       "        text-align: right;\n",
       "    }\n",
       "</style>\n",
       "<table border=\"1\" class=\"dataframe\">\n",
       "  <thead>\n",
       "    <tr style=\"text-align: right;\">\n",
       "      <th></th>\n",
       "      <th>Trig_date</th>\n",
       "      <th>District</th>\n",
       "      <th>Chiefdom</th>\n",
       "      <th>Section</th>\n",
       "      <th>Name_of_community</th>\n",
       "      <th>t_q1</th>\n",
       "      <th>t_q2</th>\n",
       "      <th>t_q3</th>\n",
       "      <th>t_q4</th>\n",
       "      <th>t_q5</th>\n",
       "      <th>t_q6</th>\n",
       "      <th>t_q7</th>\n",
       "      <th>t_q8</th>\n",
       "      <th>t_q9</th>\n",
       "      <th>t_q10</th>\n",
       "      <th>t_q11</th>\n",
       "    </tr>\n",
       "  </thead>\n",
       "  <tbody>\n",
       "    <tr>\n",
       "      <th>0</th>\n",
       "      <td>2014-10-12</td>\n",
       "      <td>Kailahun</td>\n",
       "      <td>Luawa</td>\n",
       "      <td>Baoma</td>\n",
       "      <td>Sokebo</td>\n",
       "      <td>Last week</td>\n",
       "      <td>1.0</td>\n",
       "      <td>1.0</td>\n",
       "      <td>Youth Leader</td>\n",
       "      <td>Very High</td>\n",
       "      <td>With the interrvention of Restless Development...</td>\n",
       "      <td>do we need to avoid all bush meat or just monkeys</td>\n",
       "      <td>Keeping sick persons in the community, Using t...</td>\n",
       "      <td>No sick person should be kept at home, No one ...</td>\n",
       "      <td>High rate of teenage pregnancy</td>\n",
       "      <td>They are capable of carrying out action plan a...</td>\n",
       "    </tr>\n",
       "  </tbody>\n",
       "</table>\n",
       "</div>"
      ],
      "text/plain": [
       "   Trig_date  District Chiefdom Section Name_of_community       t_q1  t_q2  \\\n",
       "0 2014-10-12  Kailahun    Luawa   Baoma            Sokebo  Last week   1.0   \n",
       "\n",
       "   t_q3          t_q4       t_q5  \\\n",
       "0   1.0  Youth Leader  Very High   \n",
       "\n",
       "                                                t_q6  \\\n",
       "0  With the interrvention of Restless Development...   \n",
       "\n",
       "                                                t_q7  \\\n",
       "0  do we need to avoid all bush meat or just monkeys   \n",
       "\n",
       "                                                t_q8  \\\n",
       "0  Keeping sick persons in the community, Using t...   \n",
       "\n",
       "                                                t_q9  \\\n",
       "0  No sick person should be kept at home, No one ...   \n",
       "\n",
       "                             t_q10  \\\n",
       "0  High rate of teenage pregnancy    \n",
       "\n",
       "                                               t_q11  \n",
       "0  They are capable of carrying out action plan a...  "
      ]
     },
     "execution_count": 4,
     "metadata": {},
     "output_type": "execute_result"
    }
   ],
   "source": [
    "trigger_other.head(1)"
   ]
  },
  {
   "cell_type": "code",
   "execution_count": 46,
   "metadata": {
    "ExecuteTime": {
     "end_time": "2020-03-23T20:43:09.591843Z",
     "start_time": "2020-03-23T20:42:59.774546Z"
    }
   },
   "outputs": [],
   "source": [
    "follow_up_other = pd.read_excel('../data/all_paper_data.xlsx',sheet_name='Follow Up Other')"
   ]
  },
  {
   "cell_type": "code",
   "execution_count": 6,
   "metadata": {
    "ExecuteTime": {
     "end_time": "2020-03-23T19:54:49.355341Z",
     "start_time": "2020-03-23T19:54:49.348918Z"
    }
   },
   "outputs": [
    {
     "data": {
      "text/html": [
       "<div>\n",
       "<style scoped>\n",
       "    .dataframe tbody tr th:only-of-type {\n",
       "        vertical-align: middle;\n",
       "    }\n",
       "\n",
       "    .dataframe tbody tr th {\n",
       "        vertical-align: top;\n",
       "    }\n",
       "\n",
       "    .dataframe thead th {\n",
       "        text-align: right;\n",
       "    }\n",
       "</style>\n",
       "<table border=\"1\" class=\"dataframe\">\n",
       "  <thead>\n",
       "    <tr style=\"text-align: right;\">\n",
       "      <th></th>\n",
       "      <th>Date_of_Visit</th>\n",
       "      <th>District</th>\n",
       "      <th>Chiefdom</th>\n",
       "      <th>Section</th>\n",
       "      <th>Name_of_community</th>\n",
       "      <th>f_q1</th>\n",
       "      <th>f_q2</th>\n",
       "      <th>f_q3</th>\n",
       "      <th>f_q4</th>\n",
       "      <th>f_q5</th>\n",
       "      <th>f_q6</th>\n",
       "    </tr>\n",
       "  </thead>\n",
       "  <tbody>\n",
       "    <tr>\n",
       "      <th>0</th>\n",
       "      <td>2015-01-10 00:00:00</td>\n",
       "      <td>Bo</td>\n",
       "      <td>Komboya</td>\n",
       "      <td>NaN</td>\n",
       "      <td>Mano</td>\n",
       "      <td>NaN</td>\n",
       "      <td>NaN</td>\n",
       "      <td>NaN</td>\n",
       "      <td>they happy now that the medical team are reall...</td>\n",
       "      <td>no strnger is allow ,and hand washing is frequent</td>\n",
       "      <td>strangers are not allow,no body contact,no vis...</td>\n",
       "    </tr>\n",
       "  </tbody>\n",
       "</table>\n",
       "</div>"
      ],
      "text/plain": [
       "         Date_of_Visit District Chiefdom Section Name_of_community  f_q1 f_q2  \\\n",
       "0  2015-01-10 00:00:00       Bo  Komboya     NaN              Mano   NaN  NaN   \n",
       "\n",
       "  f_q3                                               f_q4  \\\n",
       "0  NaN  they happy now that the medical team are reall...   \n",
       "\n",
       "                                                f_q5  \\\n",
       "0  no strnger is allow ,and hand washing is frequent   \n",
       "\n",
       "                                                f_q6  \n",
       "0  strangers are not allow,no body contact,no vis...  "
      ]
     },
     "execution_count": 6,
     "metadata": {},
     "output_type": "execute_result"
    }
   ],
   "source": [
    "follow_up_other.head(1)"
   ]
  },
  {
   "cell_type": "code",
   "execution_count": 7,
   "metadata": {
    "ExecuteTime": {
     "end_time": "2020-03-23T19:54:49.838594Z",
     "start_time": "2020-03-23T19:54:49.356017Z"
    }
   },
   "outputs": [],
   "source": [
    "digital = pd.read_csv('../data/digital.csv', low_memory=False)"
   ]
  },
  {
   "cell_type": "code",
   "execution_count": 9,
   "metadata": {
    "ExecuteTime": {
     "end_time": "2020-03-23T19:54:49.850808Z",
     "start_time": "2020-03-23T19:54:49.843270Z"
    }
   },
   "outputs": [
    {
     "data": {
      "text/plain": [
       "0    3/24/2015\n",
       "1    3/16/2015\n",
       "Name: today, dtype: object"
      ]
     },
     "execution_count": 9,
     "metadata": {},
     "output_type": "execute_result"
    }
   ],
   "source": [
    "digital.today.head(2)"
   ]
  },
  {
   "cell_type": "markdown",
   "metadata": {},
   "source": [
    "## Datetime Plots"
   ]
  },
  {
   "cell_type": "code",
   "execution_count": 10,
   "metadata": {
    "ExecuteTime": {
     "end_time": "2020-03-23T19:54:52.987597Z",
     "start_time": "2020-03-23T19:54:52.977695Z"
    }
   },
   "outputs": [],
   "source": [
    "trigger_dt = pd.to_datetime(trigger_other.Trig_date, infer_datetime_format=True, exact=False)\n",
    "trigger_dt_range = pd.date_range(trigger_dt.min(), trigger_dt.max(),freq='D').values\n",
    "trigger_counts = trigger_dt.value_counts().sort_index()\n",
    "all_counts = trigger_counts.reindex(trigger_dt_range, fill_value=0)"
   ]
  },
  {
   "cell_type": "code",
   "execution_count": 11,
   "metadata": {
    "ExecuteTime": {
     "end_time": "2020-03-23T19:54:53.201969Z",
     "start_time": "2020-03-23T19:54:53.199414Z"
    }
   },
   "outputs": [],
   "source": [
    "def resilient_dt(dt_obj):\n",
    "    try:\n",
    "        return pd.to_datetime(dt_obj, infer_datetime_format=True, exact=False)\n",
    "    except:\n",
    "        return np.nan"
   ]
  },
  {
   "cell_type": "code",
   "execution_count": 12,
   "metadata": {
    "ExecuteTime": {
     "end_time": "2020-03-23T19:54:53.371216Z",
     "start_time": "2020-03-23T19:54:53.368356Z"
    }
   },
   "outputs": [],
   "source": [
    "def coerce_date(dt_obj, year):\n",
    "    try:\n",
    "        return dt_obj.replace(year=year)\n",
    "    except ValueError:\n",
    "        return np.nan"
   ]
  },
  {
   "cell_type": "code",
   "execution_count": 13,
   "metadata": {
    "ExecuteTime": {
     "end_time": "2020-03-23T19:54:54.599151Z",
     "start_time": "2020-03-23T19:54:54.596155Z"
    }
   },
   "outputs": [],
   "source": [
    "def fill_datetime(dt_obs, coerce_year = None):\n",
    "    \"\"\"Return datetime observations with consistent observation window\n",
    "    \"\"\"\n",
    "    temp_dt = dt_obs.apply(lambda x: resilient_dt(x))#pd.to_datetime(dt_obs, infer_datetime_format=True)\n",
    "    if coerce_year:\n",
    "        temp_dt = temp_dt.apply(lambda x: coerce_date(x,coerce_year)) \n",
    "    temp_dt_range = pd.date_range(temp_dt.min(), temp_dt.max(),freq='D').values\n",
    "    \n",
    "    temp_counts = temp_dt.value_counts().sort_index()\n",
    "    return temp_counts.reindex(temp_dt_range, fill_value=0)"
   ]
  },
  {
   "cell_type": "code",
   "execution_count": 14,
   "metadata": {
    "ExecuteTime": {
     "end_time": "2020-03-23T19:54:56.669705Z",
     "start_time": "2020-03-23T19:54:54.947125Z"
    }
   },
   "outputs": [],
   "source": [
    "f_res = follow_up_other.Date_of_Visit.apply(lambda x: resilient_dt(x))"
   ]
  },
  {
   "cell_type": "code",
   "execution_count": 15,
   "metadata": {
    "ExecuteTime": {
     "end_time": "2020-03-23T19:54:57.987098Z",
     "start_time": "2020-03-23T19:54:57.980175Z"
    }
   },
   "outputs": [
    {
     "data": {
      "text/plain": [
       "2015-02-12    476\n",
       "2015-02-11    331\n",
       "2015-02-05    328\n",
       "2015-03-14    316\n",
       "2015-02-10    304\n",
       "             ... \n",
       "2015-09-22      1\n",
       "2015-10-03      1\n",
       "2016-06-22      1\n",
       "2015-09-20      1\n",
       "2015-04-29      1\n",
       "Name: Date_of_Visit, Length: 299, dtype: int64"
      ]
     },
     "execution_count": 15,
     "metadata": {},
     "output_type": "execute_result"
    }
   ],
   "source": [
    "f_res.value_counts()"
   ]
  },
  {
   "cell_type": "code",
   "execution_count": 16,
   "metadata": {
    "ExecuteTime": {
     "end_time": "2020-03-23T19:56:55.087341Z",
     "start_time": "2020-03-23T19:56:55.054537Z"
    }
   },
   "outputs": [],
   "source": [
    "trigger_counts  = fill_datetime(trigger_other.Trig_date)"
   ]
  },
  {
   "cell_type": "code",
   "execution_count": 17,
   "metadata": {
    "ExecuteTime": {
     "end_time": "2020-03-23T19:56:57.251425Z",
     "start_time": "2020-03-23T19:56:55.591149Z"
    }
   },
   "outputs": [],
   "source": [
    "followup_counts  = fill_datetime(follow_up_other.Date_of_Visit)"
   ]
  },
  {
   "cell_type": "code",
   "execution_count": 18,
   "metadata": {
    "ExecuteTime": {
     "end_time": "2020-03-23T19:57:05.766882Z",
     "start_time": "2020-03-23T19:56:57.252222Z"
    }
   },
   "outputs": [],
   "source": [
    "digital_counts = fill_datetime(digital.today, 2015)"
   ]
  },
  {
   "cell_type": "code",
   "execution_count": 19,
   "metadata": {
    "ExecuteTime": {
     "end_time": "2020-03-23T19:57:05.951212Z",
     "start_time": "2020-03-23T19:57:05.767844Z"
    }
   },
   "outputs": [
    {
     "name": "stderr",
     "output_type": "stream",
     "text": [
      "/home/hereford/anaconda3/lib/python3.7/site-packages/pandas/plotting/_matplotlib/converter.py:103: FutureWarning: Using an implicitly registered datetime converter for a matplotlib plotting method. The converter was registered by pandas on import. Future versions of pandas will require you to explicitly register matplotlib converters.\n",
      "\n",
      "To register the converters:\n",
      "\t>>> from pandas.plotting import register_matplotlib_converters\n",
      "\t>>> register_matplotlib_converters()\n",
      "  warnings.warn(msg, FutureWarning)\n"
     ]
    },
    {
     "data": {
      "image/png": "[encoded data removed]",
      "text/plain": [
       "<Figure size 432x288 with 1 Axes>"
      ]
     },
     "metadata": {
      "needs_background": "light"
     },
     "output_type": "display_data"
    }
   ],
   "source": [
    "plt.bar(all_counts.index, all_counts.values,alpha=.7)\n",
    "plt.ylabel('N Trigger Events')\n",
    "plt.grid(linestyle=':',alpha=.5)"
   ]
  },
  {
   "cell_type": "code",
   "execution_count": 20,
   "metadata": {
    "ExecuteTime": {
     "end_time": "2020-03-23T19:57:56.193341Z",
     "start_time": "2020-03-23T19:57:56.189861Z"
    }
   },
   "outputs": [],
   "source": [
    "fc_b = followup_counts[followup_counts.index>datetime(2015,3,1)]"
   ]
  },
  {
   "cell_type": "code",
   "execution_count": 21,
   "metadata": {
    "ExecuteTime": {
     "end_time": "2020-03-23T19:57:59.590670Z",
     "start_time": "2020-03-23T19:57:56.551171Z"
    }
   },
   "outputs": [
    {
     "data": {
      "image/png": "[encoded data removed]",
      "text/plain": [
       "<Figure size 432x288 with 1 Axes>"
      ]
     },
     "metadata": {
      "needs_background": "light"
     },
     "output_type": "display_data"
    }
   ],
   "source": [
    "plt.bar(fc_b.index, fc_b.values,alpha=.7)\n",
    "plt.ylabel('N Trigger Events')\n",
    "plt.xlim(datetime(2014,1,1),datetime(2016,1,1))\n",
    "plt.grid(linestyle=':',alpha=.5)"
   ]
  },
  {
   "cell_type": "code",
   "execution_count": 22,
   "metadata": {
    "ExecuteTime": {
     "end_time": "2020-03-23T19:58:47.481586Z",
     "start_time": "2020-03-23T19:58:47.478539Z"
    },
    "scrolled": true
   },
   "outputs": [],
   "source": [
    "dc_b = digital_counts[(digital_counts.index>datetime(2015,3,1))]"
   ]
  },
  {
   "cell_type": "code",
   "execution_count": 23,
   "metadata": {
    "ExecuteTime": {
     "end_time": "2020-03-23T19:58:47.749436Z",
     "start_time": "2020-03-23T19:58:47.745902Z"
    }
   },
   "outputs": [
    {
     "data": {
      "text/plain": [
       "35095"
      ]
     },
     "execution_count": 23,
     "metadata": {},
     "output_type": "execute_result"
    }
   ],
   "source": [
    "dc_b.sum()"
   ]
  },
  {
   "cell_type": "code",
   "execution_count": 24,
   "metadata": {
    "ExecuteTime": {
     "end_time": "2020-03-23T19:58:48.101062Z",
     "start_time": "2020-03-23T19:58:48.088926Z"
    }
   },
   "outputs": [
    {
     "data": {
      "text/html": [
       "<div>\n",
       "<style scoped>\n",
       "    .dataframe tbody tr th:only-of-type {\n",
       "        vertical-align: middle;\n",
       "    }\n",
       "\n",
       "    .dataframe tbody tr th {\n",
       "        vertical-align: top;\n",
       "    }\n",
       "\n",
       "    .dataframe thead th {\n",
       "        text-align: right;\n",
       "    }\n",
       "</style>\n",
       "<table border=\"1\" class=\"dataframe\">\n",
       "  <thead>\n",
       "    <tr style=\"text-align: right;\">\n",
       "      <th></th>\n",
       "      <th>today</th>\n",
       "      <th>Date_of_Visit</th>\n",
       "    </tr>\n",
       "  </thead>\n",
       "  <tbody>\n",
       "    <tr>\n",
       "      <th>2015-03-02</th>\n",
       "      <td>5.0</td>\n",
       "      <td>38</td>\n",
       "    </tr>\n",
       "    <tr>\n",
       "      <th>2015-03-03</th>\n",
       "      <td>7.0</td>\n",
       "      <td>57</td>\n",
       "    </tr>\n",
       "    <tr>\n",
       "      <th>2015-03-04</th>\n",
       "      <td>7.0</td>\n",
       "      <td>145</td>\n",
       "    </tr>\n",
       "    <tr>\n",
       "      <th>2015-03-05</th>\n",
       "      <td>4.0</td>\n",
       "      <td>45</td>\n",
       "    </tr>\n",
       "    <tr>\n",
       "      <th>2015-03-06</th>\n",
       "      <td>6.0</td>\n",
       "      <td>102</td>\n",
       "    </tr>\n",
       "    <tr>\n",
       "      <th>...</th>\n",
       "      <td>...</td>\n",
       "      <td>...</td>\n",
       "    </tr>\n",
       "    <tr>\n",
       "      <th>2025-05-24</th>\n",
       "      <td>NaN</td>\n",
       "      <td>0</td>\n",
       "    </tr>\n",
       "    <tr>\n",
       "      <th>2025-05-25</th>\n",
       "      <td>NaN</td>\n",
       "      <td>0</td>\n",
       "    </tr>\n",
       "    <tr>\n",
       "      <th>2025-05-26</th>\n",
       "      <td>NaN</td>\n",
       "      <td>0</td>\n",
       "    </tr>\n",
       "    <tr>\n",
       "      <th>2025-05-27</th>\n",
       "      <td>NaN</td>\n",
       "      <td>0</td>\n",
       "    </tr>\n",
       "    <tr>\n",
       "      <th>2025-05-28</th>\n",
       "      <td>NaN</td>\n",
       "      <td>1</td>\n",
       "    </tr>\n",
       "  </tbody>\n",
       "</table>\n",
       "<p>3741 rows × 2 columns</p>\n",
       "</div>"
      ],
      "text/plain": [
       "            today  Date_of_Visit\n",
       "2015-03-02    5.0             38\n",
       "2015-03-03    7.0             57\n",
       "2015-03-04    7.0            145\n",
       "2015-03-05    4.0             45\n",
       "2015-03-06    6.0            102\n",
       "...           ...            ...\n",
       "2025-05-24    NaN              0\n",
       "2025-05-25    NaN              0\n",
       "2025-05-26    NaN              0\n",
       "2025-05-27    NaN              0\n",
       "2025-05-28    NaN              1\n",
       "\n",
       "[3741 rows x 2 columns]"
      ]
     },
     "execution_count": 24,
     "metadata": {},
     "output_type": "execute_result"
    }
   ],
   "source": [
    "pd.concat([dc_b,fc_b],axis=1)"
   ]
  },
  {
   "cell_type": "code",
   "execution_count": 24,
   "metadata": {
    "ExecuteTime": {
     "end_time": "2020-03-22T18:46:54.369522Z",
     "start_time": "2020-03-22T18:46:53.714072Z"
    }
   },
   "outputs": [
    {
     "data": {
      "text/plain": [
       "(array([735658., 735689., 735719., 735750., 735780., 735811., 735842.,\n",
       "        735872., 735903., 735933., 735964.]),\n",
       " <a list of 11 Text xticklabel objects>)"
      ]
     },
     "execution_count": 24,
     "metadata": {},
     "output_type": "execute_result"
    },
    {
     "data": {
      "image/png": "[encoded data removed]",
      "text/plain": [
       "<Figure size 432x288 with 1 Axes>"
      ]
     },
     "metadata": {
      "needs_background": "light"
     },
     "output_type": "display_data"
    }
   ],
   "source": [
    "plt.bar(dc_b.index, dc_b.values, alpha=.7)\n",
    "plt.ylabel('N Trigger Events')\n",
    "plt.grid(linestyle=':',alpha=.5)\n",
    "plt.xticks(rotation=90)"
   ]
  },
  {
   "cell_type": "code",
   "execution_count": 25,
   "metadata": {
    "ExecuteTime": {
     "end_time": "2020-03-22T18:46:54.377986Z",
     "start_time": "2020-03-22T18:46:54.374704Z"
    }
   },
   "outputs": [],
   "source": [
    "all_follow = pd.concat([dc_b,fc_b],axis=1)"
   ]
  },
  {
   "cell_type": "code",
   "execution_count": 26,
   "metadata": {
    "ExecuteTime": {
     "end_time": "2020-03-22T18:46:54.382180Z",
     "start_time": "2020-03-22T18:46:54.379847Z"
    }
   },
   "outputs": [],
   "source": [
    "all_follow.fillna(0,inplace=True)"
   ]
  },
  {
   "cell_type": "code",
   "execution_count": 27,
   "metadata": {
    "ExecuteTime": {
     "end_time": "2020-03-22T18:46:54.388987Z",
     "start_time": "2020-03-22T18:46:54.383586Z"
    }
   },
   "outputs": [],
   "source": [
    "all_follow = all_follow.today + all_follow.Date_of_Visit"
   ]
  },
  {
   "cell_type": "code",
   "execution_count": 35,
   "metadata": {
    "ExecuteTime": {
     "end_time": "2020-03-22T22:27:03.167489Z",
     "start_time": "2020-03-22T22:26:33.037438Z"
    },
    "scrolled": false
   },
   "outputs": [
    {
     "data": {
      "image/png": "[encoded data removed]",
      "text/plain": [
       "<Figure size 864x576 with 2 Axes>"
      ]
     },
     "metadata": {
      "needs_background": "light"
     },
     "output_type": "display_data"
    }
   ],
   "source": [
    "f,a = plt.subplots(2,1,figsize=(12,8))\n",
    "\n",
    "a=a.ravel()\n",
    "\n",
    "a[0].bar(all_counts.index, all_counts.values,alpha=.7,label='Triggering')\n",
    "a[0].legend(fontsize=18)\n",
    "#a[0].set_ylabel('N Trigger Events')\n",
    "a[0].grid(linestyle=':',alpha=.5)\n",
    "a[0].set_xlim(datetime(2014,11,1),datetime(2015,3,1))\n",
    "a[0].tick_params(axis='x',labelrotation=0,labelsize=12)\n",
    "\n",
    "\n",
    "a[1].bar(all_counts.index, all_counts.values,alpha=.7,label='Triggering')\n",
    "#a[1].set_ylabel('N Trigger Events')\n",
    "a[1].grid(linestyle=':',alpha=.5)\n",
    "#a[1].annotate('Triggering + follow-up',(.6,.8), xycoords='axes fraction', fontsize=18)\n",
    "\n",
    "a[1].bar(all_follow.index, all_follow.values,label='Follow-up')\n",
    "a[1].set_xlim(datetime(2014,11,1),datetime(2016,1,1))\n",
    "a[1].legend(fontsize=18)\n",
    "#a[1].bar(all_counts.index, all_counts.values)\n",
    "a[1].tick_params(axis='x',labelrotation=0,labelsize=12)\n",
    "\n",
    "f.text(.025,.5,'N Community Visits', va='center', rotation=90, fontsize=18)\n",
    "\n",
    "f.tight_layout()\n",
    "plt.subplots_adjust(left=.1)\n",
    "#plt.savefig('Triggering_followup_counts.pdf')"
   ]
  },
  {
   "cell_type": "markdown",
   "metadata": {
    "ExecuteTime": {
     "end_time": "2020-03-23T20:20:37.676824Z",
     "start_time": "2020-03-23T20:20:37.674799Z"
    }
   },
   "source": [
    "## Text NA"
   ]
  },
  {
   "cell_type": "code",
   "execution_count": 140,
   "metadata": {
    "ExecuteTime": {
     "end_time": "2020-03-23T21:36:16.088022Z",
     "start_time": "2020-03-23T21:36:16.075360Z"
    }
   },
   "outputs": [],
   "source": [
    "# get rows with more th\n",
    "digital_miss_text = digital[[f'g_actionstat/action{i}' for i in [1,2,4,5]]+['g_actionstat/biggest_change']].isna().min(axis=1)"
   ]
  },
  {
   "cell_type": "code",
   "execution_count": 65,
   "metadata": {
    "ExecuteTime": {
     "end_time": "2020-03-23T21:12:33.180448Z",
     "start_time": "2020-03-23T21:12:33.172155Z"
    }
   },
   "outputs": [],
   "source": [
    "tigger_miss_text = trigger_other[trigger_other.columns[10:]].isna().min(axis=1)"
   ]
  },
  {
   "cell_type": "code",
   "execution_count": 75,
   "metadata": {
    "ExecuteTime": {
     "end_time": "2020-03-23T21:14:06.926059Z",
     "start_time": "2020-03-23T21:14:06.917131Z"
    }
   },
   "outputs": [],
   "source": [
    "follow_miss_text = follow_up_other[follow_up_other.columns[6:]].isna().min(axis=1)"
   ]
  },
  {
   "cell_type": "code",
   "execution_count": 135,
   "metadata": {
    "ExecuteTime": {
     "end_time": "2020-03-23T21:34:36.500206Z",
     "start_time": "2020-03-23T21:34:36.498068Z"
    }
   },
   "outputs": [],
   "source": [
    "#follow_up_other[follow_miss_text]"
   ]
  },
  {
   "cell_type": "code",
   "execution_count": 83,
   "metadata": {
    "ExecuteTime": {
     "end_time": "2020-03-23T21:21:57.861032Z",
     "start_time": "2020-03-23T21:21:56.222334Z"
    }
   },
   "outputs": [],
   "source": [
    "missing_prop = fill_datetime(follow_up_other[follow_miss_text].Date_of_Visit)/fill_datetime(follow_up_other[~follow_miss_text].Date_of_Visit)"
   ]
  },
  {
   "cell_type": "code",
   "execution_count": 95,
   "metadata": {
    "ExecuteTime": {
     "end_time": "2020-03-23T21:25:11.767488Z",
     "start_time": "2020-03-23T21:25:10.180385Z"
    }
   },
   "outputs": [],
   "source": [
    "missing_counts = fill_datetime(follow_up_other[follow_miss_text].Date_of_Visit)\n",
    "present_counts = fill_datetime(follow_up_other[~follow_miss_text].Date_of_Visit)"
   ]
  },
  {
   "cell_type": "code",
   "execution_count": 113,
   "metadata": {
    "ExecuteTime": {
     "end_time": "2020-03-23T21:28:54.489274Z",
     "start_time": "2020-03-23T21:28:54.484636Z"
    }
   },
   "outputs": [],
   "source": [
    "combined = pd.concat([missing_counts,present_counts],axis=1).fillna(0)"
   ]
  },
  {
   "cell_type": "code",
   "execution_count": 116,
   "metadata": {
    "ExecuteTime": {
     "end_time": "2020-03-23T21:29:17.288713Z",
     "start_time": "2020-03-23T21:29:17.283197Z"
    }
   },
   "outputs": [
    {
     "data": {
      "text/plain": [
       "2014-01-13    1\n",
       "2014-01-14    0\n",
       "2014-01-15    0\n",
       "2014-01-16    0\n",
       "2014-01-17    0\n",
       "             ..\n",
       "2025-05-24    0\n",
       "2025-05-25    0\n",
       "2025-05-26    0\n",
       "2025-05-27    0\n",
       "2025-05-28    1\n",
       "Name: Date_of_Visit, Length: 4154, dtype: int64"
      ]
     },
     "execution_count": 116,
     "metadata": {},
     "output_type": "execute_result"
    }
   ],
   "source": [
    "combined.iloc[:,1]"
   ]
  },
  {
   "cell_type": "code",
   "execution_count": 114,
   "metadata": {
    "ExecuteTime": {
     "end_time": "2020-03-23T21:28:56.568898Z",
     "start_time": "2020-03-23T21:28:56.566728Z"
    }
   },
   "outputs": [],
   "source": [
    "#followup_[follow_miss_text.values]"
   ]
  },
  {
   "cell_type": "code",
   "execution_count": 134,
   "metadata": {
    "ExecuteTime": {
     "end_time": "2020-03-23T21:32:58.037454Z",
     "start_time": "2020-03-23T21:32:50.553274Z"
    }
   },
   "outputs": [
    {
     "data": {
      "text/plain": [
       "(735538.0, 735964.0)"
      ]
     },
     "execution_count": 134,
     "metadata": {},
     "output_type": "execute_result"
    },
    {
     "data": {
      "image/png": "[encoded data removed]",
      "text/plain": [
       "<Figure size 864x576 with 1 Axes>"
      ]
     },
     "metadata": {
      "needs_background": "light"
     },
     "output_type": "display_data"
    }
   ],
   "source": [
    "f,a = plt.subplots(1,1,figsize=(12,8))\n",
    "\n",
    "a.bar(combined.index, combined.iloc[:,1].values,alpha=.7,label='Triggering')\n",
    "a.bar(combined.index, combined.iloc[:,0], bottom=combined.iloc[:,1],alpha=.7,label='Triggering')\n",
    "#plt.bar(followup_counts.index, followup_counts.values,alpha=.7,label='Triggering')\n",
    "a.set_xlim(datetime(2014,11,1),datetime(2016,1,1))"
   ]
  },
  {
   "cell_type": "code",
   "execution_count": 240,
   "metadata": {
    "ExecuteTime": {
     "end_time": "2020-03-23T23:46:58.144448Z",
     "start_time": "2020-03-23T23:46:49.501170Z"
    }
   },
   "outputs": [],
   "source": [
    "digital_missing_counts = fill_datetime(digital[digital_miss_text].today, 2015)\n",
    "digital_present_counts = fill_datetime(digital[~digital_miss_text].today, 2015)"
   ]
  },
  {
   "cell_type": "code",
   "execution_count": 241,
   "metadata": {
    "ExecuteTime": {
     "end_time": "2020-03-23T23:47:12.441065Z",
     "start_time": "2020-03-23T23:47:12.436209Z"
    }
   },
   "outputs": [],
   "source": [
    "combined_digital = pd.concat([digital_missing_counts,digital_present_counts],axis=1).fillna(0)"
   ]
  },
  {
   "cell_type": "code",
   "execution_count": 255,
   "metadata": {
    "ExecuteTime": {
     "end_time": "2020-03-23T23:51:45.698164Z",
     "start_time": "2020-03-23T23:51:45.468831Z"
    }
   },
   "outputs": [
    {
     "data": {
      "image/png": "[encoded data removed]",
      "text/plain": [
       "<Figure size 864x576 with 1 Axes>"
      ]
     },
     "metadata": {
      "needs_background": "light"
     },
     "output_type": "display_data"
    }
   ],
   "source": [
    "f,a = plt.subplots(1,1,figsize=(12,8))\n",
    "\n",
    "target_df = combined_digital\n",
    "\n",
    "a.bar(target_df.iloc[:,1].resample('W').sum().index, target_df.iloc[:,1].resample('W').sum(), width=2,alpha=.7,label='Triggering')\n",
    "a.bar(target_df.iloc[:,1].resample('W').sum().index, target_df.iloc[:,0].resample('W').sum(), width=2,bottom=target_df.iloc[:,1].resample('W').sum(),alpha=.7,label='Triggering')\n",
    "#plt.bar(followup_counts.index, followup_counts.values,alpha=.7,label='Triggering')\n",
    "a.set_xlim(datetime(2014,11,1),datetime(2016,1,1))\n",
    "\n",
    "plt.savefig('Weekly_Text_Repeats_digital.pdf')"
   ]
  },
  {
   "cell_type": "code",
   "execution_count": 156,
   "metadata": {
    "ExecuteTime": {
     "end_time": "2020-03-23T22:01:15.819980Z",
     "start_time": "2020-03-23T22:01:15.813873Z"
    }
   },
   "outputs": [],
   "source": [
    "digital_text = digital[[f'g_actionstat/action{i}' for i in [1,2,4,5]]+['g_actionstat/biggest_change']]\n"
   ]
  },
  {
   "cell_type": "code",
   "execution_count": 163,
   "metadata": {
    "ExecuteTime": {
     "end_time": "2020-03-23T22:03:45.549335Z",
     "start_time": "2020-03-23T22:03:45.531652Z"
    }
   },
   "outputs": [],
   "source": [
    "repeats = digital_text['g_actionstat/biggest_change'].value_counts()[digital_text['g_actionstat/biggest_change'].value_counts()>1].index"
   ]
  },
  {
   "cell_type": "code",
   "execution_count": 166,
   "metadata": {
    "ExecuteTime": {
     "end_time": "2020-03-23T22:06:20.288221Z",
     "start_time": "2020-03-23T22:06:20.280629Z"
    }
   },
   "outputs": [
    {
     "data": {
      "text/plain": [
       "0        False\n",
       "1         True\n",
       "2        False\n",
       "3        False\n",
       "4        False\n",
       "         ...  \n",
       "36601    False\n",
       "36602    False\n",
       "36603    False\n",
       "36604    False\n",
       "36605    False\n",
       "Name: g_actionstat/biggest_change, Length: 36606, dtype: bool"
      ]
     },
     "execution_count": 166,
     "metadata": {},
     "output_type": "execute_result"
    }
   ],
   "source": [
    "digital_text['g_actionstat/biggest_change'].isin(repeats)"
   ]
  },
  {
   "cell_type": "code",
   "execution_count": 191,
   "metadata": {
    "ExecuteTime": {
     "end_time": "2020-03-23T22:19:20.056077Z",
     "start_time": "2020-03-23T22:19:20.007646Z"
    }
   },
   "outputs": [],
   "source": [
    "repeat_inds = []\n",
    "for col in digital_text.columns:\n",
    "    repeats = digital_text[col].value_counts()[digital_text[col].value_counts()>1].index\n",
    "    repeat_inds.append(digital_text[col].isin(repeats))"
   ]
  },
  {
   "cell_type": "code",
   "execution_count": 213,
   "metadata": {
    "ExecuteTime": {
     "end_time": "2020-03-23T22:37:02.475087Z",
     "start_time": "2020-03-23T22:37:02.463006Z"
    }
   },
   "outputs": [],
   "source": [
    "repeats = []\n",
    "for i in range(5):\n",
    "    repeats.append((pd.concat(repeat_inds,axis=1).sum(axis=1)==i).sum())"
   ]
  },
  {
   "cell_type": "code",
   "execution_count": 233,
   "metadata": {
    "ExecuteTime": {
     "end_time": "2020-03-23T23:41:57.202877Z",
     "start_time": "2020-03-23T23:41:57.114454Z"
    }
   },
   "outputs": [
    {
     "data": {
      "image/png": "[encoded data removed]",
      "text/plain": [
       "<Figure size 432x288 with 1 Axes>"
      ]
     },
     "metadata": {
      "needs_background": "light"
     },
     "output_type": "display_data"
    }
   ],
   "source": [
    "plt.bar(range(5), repeats)\n",
    "plt.xlabel('$N$ Repeated Answers')\n",
    "plt.ylabel('$R$ Reports with $N$ Repeats')\n",
    "plt.xticks(range(5))\n",
    "\n",
    "plt.savefig('N_duplicate_response.pdf')"
   ]
  },
  {
   "cell_type": "code",
   "execution_count": 217,
   "metadata": {
    "ExecuteTime": {
     "end_time": "2020-03-23T22:44:20.697793Z",
     "start_time": "2020-03-23T22:44:20.692693Z"
    }
   },
   "outputs": [],
   "source": [
    "missing_more = pd.concat(repeat_inds,axis=1).sum(axis=1)>2"
   ]
  },
  {
   "cell_type": "code",
   "execution_count": 218,
   "metadata": {
    "ExecuteTime": {
     "end_time": "2020-03-23T22:44:49.627896Z",
     "start_time": "2020-03-23T22:44:41.335482Z"
    }
   },
   "outputs": [],
   "source": [
    "digital_missing_counts = fill_datetime(digital[missing_more].today)\n",
    "digital_present_counts = fill_datetime(digital[~missing_more].today)"
   ]
  },
  {
   "cell_type": "code",
   "execution_count": 220,
   "metadata": {
    "ExecuteTime": {
     "end_time": "2020-03-23T22:45:16.264397Z",
     "start_time": "2020-03-23T22:45:16.257290Z"
    }
   },
   "outputs": [],
   "source": [
    "combined_digital = pd.concat([digital_missing_counts,digital_present_counts],axis=1).fillna(0)"
   ]
  },
  {
   "cell_type": "code",
   "execution_count": 235,
   "metadata": {
    "ExecuteTime": {
     "end_time": "2020-03-23T23:44:05.499169Z",
     "start_time": "2020-03-23T23:42:43.132821Z"
    }
   },
   "outputs": [
    {
     "data": {
      "image/png": "[encoded data removed]",
      "text/plain": [
       "<Figure size 864x432 with 1 Axes>"
      ]
     },
     "metadata": {
      "needs_background": "light"
     },
     "output_type": "display_data"
    }
   ],
   "source": [
    "f,a = plt.subplots(1,1,figsize=(12,6))\n",
    "\n",
    "target_df = combined_digital\n",
    "\n",
    "a.bar(target_df.index, target_df.iloc[:,1].values, alpha=.7, label='Missing > 2')\n",
    "a.bar(target_df.index, target_df.iloc[:,0].values, bottom=target_df.iloc[:,1], alpha=.7, label='Missing < 2')\n",
    "#plt.bar(followup_counts.index, followup_counts.values,alpha=.7,label='Triggering')\n",
    "a.set_xlim(datetime(2015,3,1),datetime(2016,1,1))\n",
    "a.legend()\n",
    "a.tick_params(axis='x',labelrotation=0,labelsize=8)\n",
    "f.text(.025,.5,'N Community Visits', va='center', rotation=90, fontsize=18)\n",
    "\n",
    "plt.savefig('Duplicate_responses.pdf')"
   ]
  },
  {
   "cell_type": "code",
   "execution_count": 229,
   "metadata": {
    "ExecuteTime": {
     "end_time": "2020-03-23T22:53:25.897236Z",
     "start_time": "2020-03-23T22:53:01.966458Z"
    }
   },
   "outputs": [
    {
     "name": "stderr",
     "output_type": "stream",
     "text": [
      "/home/hereford/anaconda3/lib/python3.7/site-packages/ipykernel_launcher.py:5: RuntimeWarning: divide by zero encountered in true_divide\n",
      "  \"\"\"\n",
      "/home/hereford/anaconda3/lib/python3.7/site-packages/ipykernel_launcher.py:5: RuntimeWarning: invalid value encountered in true_divide\n",
      "  \"\"\"\n"
     ]
    },
    {
     "data": {
      "text/plain": [
       "<BarContainer object of 24349 artists>"
      ]
     },
     "execution_count": 229,
     "metadata": {},
     "output_type": "execute_result"
    },
    {
     "data": {
      "image/png": "[encoded data removed]",
      "text/plain": [
       "<Figure size 864x576 with 1 Axes>"
      ]
     },
     "metadata": {
      "needs_background": "light"
     },
     "output_type": "display_data"
    }
   ],
   "source": [
    "f,a = plt.subplots(1,1,figsize=(12,8))\n",
    "\n",
    "target_df = combined_digital\n",
    "\n",
    "a.bar(target_df.index, target_df.iloc[:,1].values/target_df.iloc[:,0].values, alpha=.7, label='Triggering')"
   ]
  },
  {
   "cell_type": "code",
   "execution_count": null,
   "metadata": {},
   "outputs": [],
   "source": []
  }
 ],
 "metadata": {
  "kernelspec": {
   "display_name": "Python 3",
   "language": "python",
   "name": "python3"
  },
  "language_info": {
   "codemirror_mode": {
    "name": "ipython",
    "version": 3
   },
   "file_extension": ".py",
   "mimetype": "text/x-python",
   "name": "python",
   "nbconvert_exporter": "python",
   "pygments_lexer": "ipython3",
   "version": "3.7.3"
  },
  "toc": {
   "base_numbering": 1,
   "nav_menu": {},
   "number_sections": true,
   "sideBar": true,
   "skip_h1_title": false,
   "title_cell": "Table of Contents",
   "title_sidebar": "Contents",
   "toc_cell": false,
   "toc_position": {},
   "toc_section_display": true,
   "toc_window_display": false
  }
 },
 "nbformat": 4,
 "nbformat_minor": 2
}
