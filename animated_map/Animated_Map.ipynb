{
 "cells": [
  {
   "cell_type": "code",
   "execution_count": null,
   "metadata": {},
   "outputs": [],
   "source": [
    "import argparse\n",
    "import geopandas\n",
    "import gzip\n",
    "import io\n",
    "import json\n",
    "from matplotlib.collections import LineCollection\n",
    "import pandas as pd\n",
    "import plotly\n",
    "import plotly.express as px\n",
    "from pprint import pprint\n",
    "import requests\n",
    "import main\n",
    "import sierra_leone\n",
    "\n",
    "# %load_ext autoreload\n",
    "%autoreload 2\n",
    "%matplotlib inline"
   ]
  },
  {
   "cell_type": "code",
   "execution_count": null,
   "metadata": {},
   "outputs": [],
   "source": [
    "chief = main.load_chiefdom_geopandas()\n",
    "chief_geojson = main.load_chiefdom_geojson()\n",
    "adj = main.load_chiefdom_adjacency_data()\n",
    "trigger_na, trigger_ave, trigger_other, follow_up, follow_up_other, codebook = main.load_all_paper_data()\n",
    "digital = main.load_digital_data()\n"
   ]
  },
  {
   "cell_type": "code",
   "execution_count": null,
   "metadata": {},
   "outputs": [],
   "source": [
    "conf = main.load_cases_confirmed()\n",
    "conf"
   ]
  },
  {
   "cell_type": "code",
   "execution_count": null,
   "metadata": {},
   "outputs": [],
   "source": [
    "susp = main.load_cases_suspected()\n",
    "susp"
   ]
  },
  {
   "cell_type": "code",
   "execution_count": null,
   "metadata": {
    "scrolled": true
   },
   "outputs": [],
   "source": [
    "def animate_map_1(chief, chief_geojson):\n",
    "\n",
    "    # If your shapefile has coordinates in UTM format,\n",
    "    # and you want to transform them into WGS84 (Lat / Lon format), you can do this:\n",
    "    # geodf = geodf.to_crs({'init': 'epsg:4326'})\n",
    "    print(chief.crs)\n",
    "\n",
    "    print(plotly.__version__)\n",
    "    # Plot Chiefdoms, colored by district\n",
    "    fig = px.choropleth(\n",
    "        chief,\n",
    "        geojson=chief_geojson,\n",
    "    #     color='Shape_Area',\n",
    "        color='admin2Name',\n",
    "        locations=\"OBJECTID\",\n",
    "        featureidkey=\"properties.OBJECTID\",\n",
    "        )\n",
    "    # go.Figure()\n",
    "    fig.update_geos(fitbounds=\"locations\", visible=False)\n",
    "    # fig.update_geos(lataxis_showgrid=True, lonaxis_showgrid=True)\n",
    "    fig.update_layout(mapbox_style=\"white-bg\")\n",
    "    fig.update_layout(margin={\"r\":0,\"t\":0,\"l\":0,\"b\":0})\n",
    "    fig.show()\n",
    "\n",
    "def animate_map_over_time(chief)\n",
    "# animate_map_1(chief, chief_geojson)\n",
    "animate_map_over_time(chief, chief_geojson)\n",
    "\n"
   ]
  },
  {
   "cell_type": "code",
   "execution_count": null,
   "metadata": {},
   "outputs": [],
   "source": [
    "chief.geometry.centroid\n"
   ]
  },
  {
   "cell_type": "code",
   "execution_count": null,
   "metadata": {},
   "outputs": [],
   "source": []
  },
  {
   "cell_type": "code",
   "execution_count": null,
   "metadata": {},
   "outputs": [],
   "source": [
    "\n",
    "def plot_chiefdom_adjacency(chief, adj):\n",
    "    # Create lines for each adjacent pair of chiefdoms in the format that matplotlib likes\n",
    "    df = chief.copy()\n",
    "    df['centroid'] = df.geometry.centroid\n",
    "    df = df.loc[:, ['OBJECTID', 'centroid']]\n",
    "    # add centroids to adj\n",
    "    cents = (adj.merge(df, how='inner', left_on='OBJECTID1', right_on='OBJECTID').drop(columns=['OBJECTID'])\n",
    "             .merge(df, how='inner', left_on='OBJECTID2', right_on='OBJECTID').drop(columns=['OBJECTID'])\n",
    "             .rename(columns={'centroid_x': 'centroid1', 'centroid_y': 'centroid2'}))\n",
    "    cents = cents.loc[cents['OBJECTID1'] != cents['OBJECTID2']] \n",
    "    # one line per pair of chiefdoms in adj, 2 points in each line, (x,y) pair for each point.\n",
    "    segments = np.asarray(list(cents.apply(lambda s: ((s['centroid1'].x, s['centroid1'].y), (s['centroid2'].x, s['centroid2'].y)), axis=1)\n",
    "                     .values))\n",
    "    lc = LineCollection(segments) #, linewidths=(0.5, 1, 1.5, 2),\n",
    "    #                                colors=colors, linestyle='solid')\n",
    "\n",
    "    # plot map of sierra leone chiefdoms, the centroid of each chiefdom, and lines connecting adjacent centroids.\n",
    "    # https://geopandas.org/mapping.html#maps-with-layers\n",
    "\n",
    "    fig, ax = plt.subplots(figsize=(10, 10))\n",
    "    ax.set_aspect('equal')\n",
    "    chief.plot(ax=ax, color='orange', alpha=0.3, edgecolor='black')\n",
    "    for i in range(segments.shape[0]):\n",
    "        if i > 10:\n",
    "            pass\n",
    "            # break\n",
    "\n",
    "        ax.plot(segments[i, :, 0], segments[i, :, 1], color='b')\n",
    "\n",
    "    chief.geometry.centroid.plot(ax=ax)\n",
    "    ax.set_xticks([])\n",
    "    ax.set_yticks([])\n",
    "    ax.set_title('The Sierra Leone Chiefdom Adjacency Network')\n",
    "    plt.show()\n",
    "    # ax.add_collection(lc)\n",
    "    # df.apply(lambda s: ((s['centroid1'].x, s['centroid1'].y), (s['centroid2'].x, s['centroid2'].y)) axis=1)\n",
    "\n",
    "    # xs = []\n",
    "    # ys = []\n",
    "    # for i \n",
    "    # i = 100\n",
    "    # j = 1\n",
    "    # cent1 = chief.geometry.centroid[i]\n",
    "    # cent2 = chief.geometry.centroid[j]\n",
    "    # x1, y1 = cent1.x, cent1.y\n",
    "    # x2, y2 = cent2.x, cent2.y\n",
    "    # ax.plot([x1, x2], [y1, y2])\n"
   ]
  },
  {
   "cell_type": "code",
   "execution_count": null,
   "metadata": {},
   "outputs": [],
   "source": [
    "plot_chiefdom_adjacency(chief, adj)\n"
   ]
  }
 ],
 "metadata": {
  "kernelspec": {
   "display_name": "Python 3",
   "language": "python",
   "name": "python3"
  },
  "language_info": {
   "codemirror_mode": {
    "name": "ipython",
    "version": 3
   },
   "file_extension": ".py",
   "mimetype": "text/x-python",
   "name": "python",
   "nbconvert_exporter": "python",
   "pygments_lexer": "ipython3",
   "version": "3.8.1"
  }
 },
 "nbformat": 4,
 "nbformat_minor": 4
}
